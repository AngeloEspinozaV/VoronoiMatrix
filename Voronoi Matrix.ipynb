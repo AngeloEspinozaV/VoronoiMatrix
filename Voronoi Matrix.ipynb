{
 "cells": [
  {
   "cell_type": "markdown",
   "metadata": {},
   "source": [
    "# Voronoi Matrix\n",
    "\n",
    "The objective of this code is to display the Voronoi Matrix in order to later on complete the Hausdorff Distance"
   ]
  },
  {
   "cell_type": "code",
   "execution_count": 1,
   "metadata": {},
   "outputs": [],
   "source": [
    "/* C++ Libraries */\n",
    "#include <iostream>\n",
    "#include <cmath> \n",
    "\n",
    "/* Xtensor Libraries - to work with matrices easier */\n",
    "#include \"xtensor/xarray.hpp\"\n",
    "#include \"xtensor/xio.hpp\"\n",
    "#include \"xtensor/xview.hpp\"\n",
    "#include \"xtensor/xmath.hpp\""
   ]
  },
  {
   "cell_type": "markdown",
   "metadata": {},
   "source": [
    "## Starting the map\n",
    "\n",
    "First we recreate a map by starting with a matrix of 9x9 of all negative ones"
   ]
  },
  {
   "cell_type": "code",
   "execution_count": 2,
   "metadata": {},
   "outputs": [],
   "source": [
    "/* Declaring the arrays and variables */\n",
    "xt::xarray<double> ones;\n",
    "xt::xarray<double> negative_ones;\n",
    "xt::xarray<double> global_map;\n",
    "xt::xarray<double> mat_h;\n",
    "xt::xarray<double> mat_v;\n",
    "xt::xarray<double> temporal_mat_h;\n",
    "xt::xarray<double> temporal_mat_v;\n",
    "xt::xarray<double> voro_h;\n",
    "xt::xarray<double> voro_v;\n",
    "xt::xarray<double> minor_m;\n",
    "\n",
    "/* First map  size*/ \n",
    "int N = 9; // Rows\n",
    "int M = 9; // Columns\n",
    "\n",
    "/* Seconda map size */\n",
    "// N = 17; // Rows \n",
    "// M = 18; Columns\n",
    "\n",
    "\n",
    "int iter1 = 1; // Iterator for the matrix\n",
    "int iter2 = 1; // Iterator for the matrix\n",
    "\n",
    "int disp_count = -1; // Displacement counter \n",
    "float dist_new = 0;\n",
    "float dist_less = 100;"
   ]
  },
  {
   "cell_type": "code",
   "execution_count": 3,
   "metadata": {},
   "outputs": [
    {
     "data": {
      "text/html": [
       "<table style='border-style:solid;border-width:1px;'><tbody><tr><td style='font-family:monospace;' title='(0, 0)'><pre> 1.</pre></td><td style='font-family:monospace;' title='(0, 1)'><pre> 1.</pre></td><td style='font-family:monospace;' title='(0, 2)'><pre> 1.</pre></td><td style='font-family:monospace;' title='(0, 3)'><pre> 1.</pre></td><td style='font-family:monospace;' title='(0, 4)'><pre> 1.</pre></td><td style='font-family:monospace;' title='(0, 5)'><pre> 1.</pre></td><td style='font-family:monospace;' title='(0, 6)'><pre> 1.</pre></td><td style='font-family:monospace;' title='(0, 7)'><pre> 1.</pre></td><td style='font-family:monospace;' title='(0, 8)'><pre> 1.</pre></td></tr><tr><td style='font-family:monospace;' title='(1, 0)'><pre> 1.</pre></td><td style='font-family:monospace;' title='(1, 1)'><pre> 1.</pre></td><td style='font-family:monospace;' title='(1, 2)'><pre> 1.</pre></td><td style='font-family:monospace;' title='(1, 3)'><pre> 1.</pre></td><td style='font-family:monospace;' title='(1, 4)'><pre> 1.</pre></td><td style='font-family:monospace;' title='(1, 5)'><pre> 1.</pre></td><td style='font-family:monospace;' title='(1, 6)'><pre> 1.</pre></td><td style='font-family:monospace;' title='(1, 7)'><pre> 1.</pre></td><td style='font-family:monospace;' title='(1, 8)'><pre> 1.</pre></td></tr><tr><td style='font-family:monospace;' title='(2, 0)'><pre> 1.</pre></td><td style='font-family:monospace;' title='(2, 1)'><pre> 1.</pre></td><td style='font-family:monospace;' title='(2, 2)'><pre> 1.</pre></td><td style='font-family:monospace;' title='(2, 3)'><pre> 1.</pre></td><td style='font-family:monospace;' title='(2, 4)'><pre> 1.</pre></td><td style='font-family:monospace;' title='(2, 5)'><pre> 1.</pre></td><td style='font-family:monospace;' title='(2, 6)'><pre> 1.</pre></td><td style='font-family:monospace;' title='(2, 7)'><pre> 1.</pre></td><td style='font-family:monospace;' title='(2, 8)'><pre> 1.</pre></td></tr><tr><td style='font-family:monospace;' title='(3, 0)'><pre> 1.</pre></td><td style='font-family:monospace;' title='(3, 1)'><pre> 1.</pre></td><td style='font-family:monospace;' title='(3, 2)'><pre> 1.</pre></td><td style='font-family:monospace;' title='(3, 3)'><pre> 1.</pre></td><td style='font-family:monospace;' title='(3, 4)'><pre> 1.</pre></td><td style='font-family:monospace;' title='(3, 5)'><pre> 1.</pre></td><td style='font-family:monospace;' title='(3, 6)'><pre> 1.</pre></td><td style='font-family:monospace;' title='(3, 7)'><pre> 1.</pre></td><td style='font-family:monospace;' title='(3, 8)'><pre> 1.</pre></td></tr><tr><td style='font-family:monospace;' title='(4, 0)'><pre> 1.</pre></td><td style='font-family:monospace;' title='(4, 1)'><pre> 1.</pre></td><td style='font-family:monospace;' title='(4, 2)'><pre> 1.</pre></td><td style='font-family:monospace;' title='(4, 3)'><pre> 1.</pre></td><td style='font-family:monospace;' title='(4, 4)'><pre> 1.</pre></td><td style='font-family:monospace;' title='(4, 5)'><pre> 1.</pre></td><td style='font-family:monospace;' title='(4, 6)'><pre> 1.</pre></td><td style='font-family:monospace;' title='(4, 7)'><pre> 1.</pre></td><td style='font-family:monospace;' title='(4, 8)'><pre> 1.</pre></td></tr><tr><td style='font-family:monospace;' title='(5, 0)'><pre> 1.</pre></td><td style='font-family:monospace;' title='(5, 1)'><pre> 1.</pre></td><td style='font-family:monospace;' title='(5, 2)'><pre> 1.</pre></td><td style='font-family:monospace;' title='(5, 3)'><pre> 1.</pre></td><td style='font-family:monospace;' title='(5, 4)'><pre> 1.</pre></td><td style='font-family:monospace;' title='(5, 5)'><pre> 1.</pre></td><td style='font-family:monospace;' title='(5, 6)'><pre> 1.</pre></td><td style='font-family:monospace;' title='(5, 7)'><pre> 1.</pre></td><td style='font-family:monospace;' title='(5, 8)'><pre> 1.</pre></td></tr><tr><td style='font-family:monospace;' title='(6, 0)'><pre> 1.</pre></td><td style='font-family:monospace;' title='(6, 1)'><pre> 1.</pre></td><td style='font-family:monospace;' title='(6, 2)'><pre> 1.</pre></td><td style='font-family:monospace;' title='(6, 3)'><pre> 1.</pre></td><td style='font-family:monospace;' title='(6, 4)'><pre> 1.</pre></td><td style='font-family:monospace;' title='(6, 5)'><pre> 1.</pre></td><td style='font-family:monospace;' title='(6, 6)'><pre> 1.</pre></td><td style='font-family:monospace;' title='(6, 7)'><pre> 1.</pre></td><td style='font-family:monospace;' title='(6, 8)'><pre> 1.</pre></td></tr><tr><td style='font-family:monospace;' title='(7, 0)'><pre> 1.</pre></td><td style='font-family:monospace;' title='(7, 1)'><pre> 1.</pre></td><td style='font-family:monospace;' title='(7, 2)'><pre> 1.</pre></td><td style='font-family:monospace;' title='(7, 3)'><pre> 1.</pre></td><td style='font-family:monospace;' title='(7, 4)'><pre> 1.</pre></td><td style='font-family:monospace;' title='(7, 5)'><pre> 1.</pre></td><td style='font-family:monospace;' title='(7, 6)'><pre> 1.</pre></td><td style='font-family:monospace;' title='(7, 7)'><pre> 1.</pre></td><td style='font-family:monospace;' title='(7, 8)'><pre> 1.</pre></td></tr><tr><td style='font-family:monospace;' title='(8, 0)'><pre> 1.</pre></td><td style='font-family:monospace;' title='(8, 1)'><pre> 1.</pre></td><td style='font-family:monospace;' title='(8, 2)'><pre> 1.</pre></td><td style='font-family:monospace;' title='(8, 3)'><pre> 1.</pre></td><td style='font-family:monospace;' title='(8, 4)'><pre> 1.</pre></td><td style='font-family:monospace;' title='(8, 5)'><pre> 1.</pre></td><td style='font-family:monospace;' title='(8, 6)'><pre> 1.</pre></td><td style='font-family:monospace;' title='(8, 7)'><pre> 1.</pre></td><td style='font-family:monospace;' title='(8, 8)'><pre> 1.</pre></td></tr></tbody></table>"
      ]
     },
     "execution_count": 3,
     "metadata": {},
     "output_type": "execute_result"
    }
   ],
   "source": [
    "/* Creating an 17x18 array of all ones and storing in a variable */\n",
    "ones = xt::ones<int>({N, M});\n",
    "\n",
    "/* Displaying the ones */\n",
    "ones"
   ]
  },
  {
   "cell_type": "code",
   "execution_count": 4,
   "metadata": {},
   "outputs": [
    {
     "data": {
      "text/html": [
       "<table style='border-style:solid;border-width:1px;'><tbody><tr><td style='font-family:monospace;' title='(0, 0)'><pre>-1.</pre></td><td style='font-family:monospace;' title='(0, 1)'><pre>-1.</pre></td><td style='font-family:monospace;' title='(0, 2)'><pre>-1.</pre></td><td style='font-family:monospace;' title='(0, 3)'><pre>-1.</pre></td><td style='font-family:monospace;' title='(0, 4)'><pre>-1.</pre></td><td style='font-family:monospace;' title='(0, 5)'><pre>-1.</pre></td><td style='font-family:monospace;' title='(0, 6)'><pre>-1.</pre></td><td style='font-family:monospace;' title='(0, 7)'><pre>-1.</pre></td><td style='font-family:monospace;' title='(0, 8)'><pre>-1.</pre></td></tr><tr><td style='font-family:monospace;' title='(1, 0)'><pre>-1.</pre></td><td style='font-family:monospace;' title='(1, 1)'><pre>-1.</pre></td><td style='font-family:monospace;' title='(1, 2)'><pre>-1.</pre></td><td style='font-family:monospace;' title='(1, 3)'><pre>-1.</pre></td><td style='font-family:monospace;' title='(1, 4)'><pre>-1.</pre></td><td style='font-family:monospace;' title='(1, 5)'><pre>-1.</pre></td><td style='font-family:monospace;' title='(1, 6)'><pre>-1.</pre></td><td style='font-family:monospace;' title='(1, 7)'><pre>-1.</pre></td><td style='font-family:monospace;' title='(1, 8)'><pre>-1.</pre></td></tr><tr><td style='font-family:monospace;' title='(2, 0)'><pre>-1.</pre></td><td style='font-family:monospace;' title='(2, 1)'><pre>-1.</pre></td><td style='font-family:monospace;' title='(2, 2)'><pre>-1.</pre></td><td style='font-family:monospace;' title='(2, 3)'><pre>-1.</pre></td><td style='font-family:monospace;' title='(2, 4)'><pre>-1.</pre></td><td style='font-family:monospace;' title='(2, 5)'><pre>-1.</pre></td><td style='font-family:monospace;' title='(2, 6)'><pre>-1.</pre></td><td style='font-family:monospace;' title='(2, 7)'><pre>-1.</pre></td><td style='font-family:monospace;' title='(2, 8)'><pre>-1.</pre></td></tr><tr><td style='font-family:monospace;' title='(3, 0)'><pre>-1.</pre></td><td style='font-family:monospace;' title='(3, 1)'><pre>-1.</pre></td><td style='font-family:monospace;' title='(3, 2)'><pre>-1.</pre></td><td style='font-family:monospace;' title='(3, 3)'><pre>-1.</pre></td><td style='font-family:monospace;' title='(3, 4)'><pre>-1.</pre></td><td style='font-family:monospace;' title='(3, 5)'><pre>-1.</pre></td><td style='font-family:monospace;' title='(3, 6)'><pre>-1.</pre></td><td style='font-family:monospace;' title='(3, 7)'><pre>-1.</pre></td><td style='font-family:monospace;' title='(3, 8)'><pre>-1.</pre></td></tr><tr><td style='font-family:monospace;' title='(4, 0)'><pre>-1.</pre></td><td style='font-family:monospace;' title='(4, 1)'><pre>-1.</pre></td><td style='font-family:monospace;' title='(4, 2)'><pre>-1.</pre></td><td style='font-family:monospace;' title='(4, 3)'><pre>-1.</pre></td><td style='font-family:monospace;' title='(4, 4)'><pre>-1.</pre></td><td style='font-family:monospace;' title='(4, 5)'><pre>-1.</pre></td><td style='font-family:monospace;' title='(4, 6)'><pre>-1.</pre></td><td style='font-family:monospace;' title='(4, 7)'><pre>-1.</pre></td><td style='font-family:monospace;' title='(4, 8)'><pre>-1.</pre></td></tr><tr><td style='font-family:monospace;' title='(5, 0)'><pre>-1.</pre></td><td style='font-family:monospace;' title='(5, 1)'><pre>-1.</pre></td><td style='font-family:monospace;' title='(5, 2)'><pre>-1.</pre></td><td style='font-family:monospace;' title='(5, 3)'><pre>-1.</pre></td><td style='font-family:monospace;' title='(5, 4)'><pre>-1.</pre></td><td style='font-family:monospace;' title='(5, 5)'><pre>-1.</pre></td><td style='font-family:monospace;' title='(5, 6)'><pre>-1.</pre></td><td style='font-family:monospace;' title='(5, 7)'><pre>-1.</pre></td><td style='font-family:monospace;' title='(5, 8)'><pre>-1.</pre></td></tr><tr><td style='font-family:monospace;' title='(6, 0)'><pre>-1.</pre></td><td style='font-family:monospace;' title='(6, 1)'><pre>-1.</pre></td><td style='font-family:monospace;' title='(6, 2)'><pre>-1.</pre></td><td style='font-family:monospace;' title='(6, 3)'><pre>-1.</pre></td><td style='font-family:monospace;' title='(6, 4)'><pre>-1.</pre></td><td style='font-family:monospace;' title='(6, 5)'><pre>-1.</pre></td><td style='font-family:monospace;' title='(6, 6)'><pre>-1.</pre></td><td style='font-family:monospace;' title='(6, 7)'><pre>-1.</pre></td><td style='font-family:monospace;' title='(6, 8)'><pre>-1.</pre></td></tr><tr><td style='font-family:monospace;' title='(7, 0)'><pre>-1.</pre></td><td style='font-family:monospace;' title='(7, 1)'><pre>-1.</pre></td><td style='font-family:monospace;' title='(7, 2)'><pre>-1.</pre></td><td style='font-family:monospace;' title='(7, 3)'><pre>-1.</pre></td><td style='font-family:monospace;' title='(7, 4)'><pre>-1.</pre></td><td style='font-family:monospace;' title='(7, 5)'><pre>-1.</pre></td><td style='font-family:monospace;' title='(7, 6)'><pre>-1.</pre></td><td style='font-family:monospace;' title='(7, 7)'><pre>-1.</pre></td><td style='font-family:monospace;' title='(7, 8)'><pre>-1.</pre></td></tr><tr><td style='font-family:monospace;' title='(8, 0)'><pre>-1.</pre></td><td style='font-family:monospace;' title='(8, 1)'><pre>-1.</pre></td><td style='font-family:monospace;' title='(8, 2)'><pre>-1.</pre></td><td style='font-family:monospace;' title='(8, 3)'><pre>-1.</pre></td><td style='font-family:monospace;' title='(8, 4)'><pre>-1.</pre></td><td style='font-family:monospace;' title='(8, 5)'><pre>-1.</pre></td><td style='font-family:monospace;' title='(8, 6)'><pre>-1.</pre></td><td style='font-family:monospace;' title='(8, 7)'><pre>-1.</pre></td><td style='font-family:monospace;' title='(8, 8)'><pre>-1.</pre></td></tr></tbody></table>"
      ]
     },
     "execution_count": 4,
     "metadata": {},
     "output_type": "execute_result"
    }
   ],
   "source": [
    "/* Converting into negative */\n",
    "negative_ones = -ones\n"
   ]
  },
  {
   "cell_type": "markdown",
   "metadata": {},
   "source": [
    "## Global Map\n",
    "\n",
    "We now consider a a global map. All that has a 0 represents the global map"
   ]
  },
  {
   "cell_type": "code",
   "execution_count": 5,
   "metadata": {},
   "outputs": [
    {
     "data": {
      "text/html": [
       "<table style='border-style:solid;border-width:1px;'><tbody><tr><td style='font-family:monospace;' title='(0, 0)'><pre>-1.</pre></td><td style='font-family:monospace;' title='(0, 1)'><pre>-1.</pre></td><td style='font-family:monospace;' title='(0, 2)'><pre>-1.</pre></td><td style='font-family:monospace;' title='(0, 3)'><pre>-1.</pre></td><td style='font-family:monospace;' title='(0, 4)'><pre>-1.</pre></td><td style='font-family:monospace;' title='(0, 5)'><pre>-1.</pre></td><td style='font-family:monospace;' title='(0, 6)'><pre>-1.</pre></td><td style='font-family:monospace;' title='(0, 7)'><pre>-1.</pre></td><td style='font-family:monospace;' title='(0, 8)'><pre>-1.</pre></td></tr><tr><td style='font-family:monospace;' title='(1, 0)'><pre>-1.</pre></td><td style='font-family:monospace;' title='(1, 1)'><pre> 0.</pre></td><td style='font-family:monospace;' title='(1, 2)'><pre>-1.</pre></td><td style='font-family:monospace;' title='(1, 3)'><pre>-1.</pre></td><td style='font-family:monospace;' title='(1, 4)'><pre>-1.</pre></td><td style='font-family:monospace;' title='(1, 5)'><pre>-1.</pre></td><td style='font-family:monospace;' title='(1, 6)'><pre>-1.</pre></td><td style='font-family:monospace;' title='(1, 7)'><pre>-1.</pre></td><td style='font-family:monospace;' title='(1, 8)'><pre>-1.</pre></td></tr><tr><td style='font-family:monospace;' title='(2, 0)'><pre>-1.</pre></td><td style='font-family:monospace;' title='(2, 1)'><pre>-1.</pre></td><td style='font-family:monospace;' title='(2, 2)'><pre> 0.</pre></td><td style='font-family:monospace;' title='(2, 3)'><pre>-1.</pre></td><td style='font-family:monospace;' title='(2, 4)'><pre>-1.</pre></td><td style='font-family:monospace;' title='(2, 5)'><pre>-1.</pre></td><td style='font-family:monospace;' title='(2, 6)'><pre>-1.</pre></td><td style='font-family:monospace;' title='(2, 7)'><pre>-1.</pre></td><td style='font-family:monospace;' title='(2, 8)'><pre>-1.</pre></td></tr><tr><td style='font-family:monospace;' title='(3, 0)'><pre>-1.</pre></td><td style='font-family:monospace;' title='(3, 1)'><pre>-1.</pre></td><td style='font-family:monospace;' title='(3, 2)'><pre>-1.</pre></td><td style='font-family:monospace;' title='(3, 3)'><pre> 0.</pre></td><td style='font-family:monospace;' title='(3, 4)'><pre>-1.</pre></td><td style='font-family:monospace;' title='(3, 5)'><pre>-1.</pre></td><td style='font-family:monospace;' title='(3, 6)'><pre>-1.</pre></td><td style='font-family:monospace;' title='(3, 7)'><pre>-1.</pre></td><td style='font-family:monospace;' title='(3, 8)'><pre>-1.</pre></td></tr><tr><td style='font-family:monospace;' title='(4, 0)'><pre>-1.</pre></td><td style='font-family:monospace;' title='(4, 1)'><pre>-1.</pre></td><td style='font-family:monospace;' title='(4, 2)'><pre>-1.</pre></td><td style='font-family:monospace;' title='(4, 3)'><pre> 0.</pre></td><td style='font-family:monospace;' title='(4, 4)'><pre>-1.</pre></td><td style='font-family:monospace;' title='(4, 5)'><pre>-1.</pre></td><td style='font-family:monospace;' title='(4, 6)'><pre>-1.</pre></td><td style='font-family:monospace;' title='(4, 7)'><pre>-1.</pre></td><td style='font-family:monospace;' title='(4, 8)'><pre>-1.</pre></td></tr><tr><td style='font-family:monospace;' title='(5, 0)'><pre>-1.</pre></td><td style='font-family:monospace;' title='(5, 1)'><pre>-1.</pre></td><td style='font-family:monospace;' title='(5, 2)'><pre>-1.</pre></td><td style='font-family:monospace;' title='(5, 3)'><pre>-1.</pre></td><td style='font-family:monospace;' title='(5, 4)'><pre>-1.</pre></td><td style='font-family:monospace;' title='(5, 5)'><pre>-1.</pre></td><td style='font-family:monospace;' title='(5, 6)'><pre>-1.</pre></td><td style='font-family:monospace;' title='(5, 7)'><pre>-1.</pre></td><td style='font-family:monospace;' title='(5, 8)'><pre>-1.</pre></td></tr><tr><td style='font-family:monospace;' title='(6, 0)'><pre>-1.</pre></td><td style='font-family:monospace;' title='(6, 1)'><pre>-1.</pre></td><td style='font-family:monospace;' title='(6, 2)'><pre>-1.</pre></td><td style='font-family:monospace;' title='(6, 3)'><pre>-1.</pre></td><td style='font-family:monospace;' title='(6, 4)'><pre>-1.</pre></td><td style='font-family:monospace;' title='(6, 5)'><pre>-1.</pre></td><td style='font-family:monospace;' title='(6, 6)'><pre>-1.</pre></td><td style='font-family:monospace;' title='(6, 7)'><pre>-1.</pre></td><td style='font-family:monospace;' title='(6, 8)'><pre>-1.</pre></td></tr><tr><td style='font-family:monospace;' title='(7, 0)'><pre>-1.</pre></td><td style='font-family:monospace;' title='(7, 1)'><pre>-1.</pre></td><td style='font-family:monospace;' title='(7, 2)'><pre>-1.</pre></td><td style='font-family:monospace;' title='(7, 3)'><pre>-1.</pre></td><td style='font-family:monospace;' title='(7, 4)'><pre>-1.</pre></td><td style='font-family:monospace;' title='(7, 5)'><pre>-1.</pre></td><td style='font-family:monospace;' title='(7, 6)'><pre>-1.</pre></td><td style='font-family:monospace;' title='(7, 7)'><pre>-1.</pre></td><td style='font-family:monospace;' title='(7, 8)'><pre>-1.</pre></td></tr><tr><td style='font-family:monospace;' title='(8, 0)'><pre>-1.</pre></td><td style='font-family:monospace;' title='(8, 1)'><pre>-1.</pre></td><td style='font-family:monospace;' title='(8, 2)'><pre>-1.</pre></td><td style='font-family:monospace;' title='(8, 3)'><pre>-1.</pre></td><td style='font-family:monospace;' title='(8, 4)'><pre>-1.</pre></td><td style='font-family:monospace;' title='(8, 5)'><pre>-1.</pre></td><td style='font-family:monospace;' title='(8, 6)'><pre>-1.</pre></td><td style='font-family:monospace;' title='(8, 7)'><pre>-1.</pre></td><td style='font-family:monospace;' title='(8, 8)'><pre> 0.</pre></td></tr></tbody></table>"
      ]
     },
     "execution_count": 5,
     "metadata": {},
     "output_type": "execute_result"
    }
   ],
   "source": [
    "/* Drawing the map 1*/\n",
    "\n",
    "// for (int i = 2; i < 11; ++i)\n",
    "// {\n",
    "//     negative_ones(i, 3) = 0;\n",
    "// }  \n",
    "\n",
    "// negative_ones(9,13) = 0;\n",
    "// negative_ones(8,13) = 0;\n",
    "\n",
    "// negative_ones(10,12) = 0;\n",
    "// negative_ones(11,12) = 0;\n",
    "\n",
    "// negative_ones(11,4) = 0;\n",
    "// negative_ones(11,5) = 0;\n",
    "// negative_ones(12,11) = 0;\n",
    "\n",
    "// negative_ones(12,6) = 0;\n",
    "// negative_ones(12,7) = 0;\n",
    "\n",
    "// negative_ones(13,11) = 0;\n",
    "// negative_ones(13,8) = 0;\n",
    "// negative_ones(13,9) = 0;\n",
    "// negative_ones(13,10) = 0;\n",
    "\n",
    "///////////////////////////////////\n",
    "\n",
    "/* Drawing the map 2 */\n",
    "negative_ones(1,1) = 0;\n",
    "negative_ones(2,2) = 0;\n",
    "negative_ones(3,3) = 0;\n",
    "negative_ones(4,3) = 0;\n",
    "negative_ones(8,8) = 0;\n",
    "\n",
    "\n",
    "\n",
    "/*Finish drawing the map */\n",
    "\n",
    "global_map = negative_ones\n",
    "\n"
   ]
  },
  {
   "cell_type": "markdown",
   "metadata": {},
   "source": [
    "## Horizontal Matrix (mat_h)\n",
    "\n",
    "Now we consider from the zeros that are our local map and assign a value starting from 1 up to the last considered"
   ]
  },
  {
   "cell_type": "code",
   "execution_count": 6,
   "metadata": {},
   "outputs": [
    {
     "data": {
      "text/html": [
       "<table style='border-style:solid;border-width:1px;'><tbody><tr><td style='font-family:monospace;' title='(0, 0)'><pre>-1.</pre></td><td style='font-family:monospace;' title='(0, 1)'><pre>-1.</pre></td><td style='font-family:monospace;' title='(0, 2)'><pre>-1.</pre></td><td style='font-family:monospace;' title='(0, 3)'><pre>-1.</pre></td><td style='font-family:monospace;' title='(0, 4)'><pre>-1.</pre></td><td style='font-family:monospace;' title='(0, 5)'><pre>-1.</pre></td><td style='font-family:monospace;' title='(0, 6)'><pre>-1.</pre></td><td style='font-family:monospace;' title='(0, 7)'><pre>-1.</pre></td><td style='font-family:monospace;' title='(0, 8)'><pre>-1.</pre></td></tr><tr><td style='font-family:monospace;' title='(1, 0)'><pre> 1.</pre></td><td style='font-family:monospace;' title='(1, 1)'><pre> 0.</pre></td><td style='font-family:monospace;' title='(1, 2)'><pre> 1.</pre></td><td style='font-family:monospace;' title='(1, 3)'><pre> 2.</pre></td><td style='font-family:monospace;' title='(1, 4)'><pre> 3.</pre></td><td style='font-family:monospace;' title='(1, 5)'><pre> 4.</pre></td><td style='font-family:monospace;' title='(1, 6)'><pre> 5.</pre></td><td style='font-family:monospace;' title='(1, 7)'><pre> 6.</pre></td><td style='font-family:monospace;' title='(1, 8)'><pre> 7.</pre></td></tr><tr><td style='font-family:monospace;' title='(2, 0)'><pre> 2.</pre></td><td style='font-family:monospace;' title='(2, 1)'><pre> 1.</pre></td><td style='font-family:monospace;' title='(2, 2)'><pre> 0.</pre></td><td style='font-family:monospace;' title='(2, 3)'><pre> 1.</pre></td><td style='font-family:monospace;' title='(2, 4)'><pre> 2.</pre></td><td style='font-family:monospace;' title='(2, 5)'><pre> 3.</pre></td><td style='font-family:monospace;' title='(2, 6)'><pre> 4.</pre></td><td style='font-family:monospace;' title='(2, 7)'><pre> 5.</pre></td><td style='font-family:monospace;' title='(2, 8)'><pre> 6.</pre></td></tr><tr><td style='font-family:monospace;' title='(3, 0)'><pre> 3.</pre></td><td style='font-family:monospace;' title='(3, 1)'><pre> 2.</pre></td><td style='font-family:monospace;' title='(3, 2)'><pre> 1.</pre></td><td style='font-family:monospace;' title='(3, 3)'><pre> 0.</pre></td><td style='font-family:monospace;' title='(3, 4)'><pre> 1.</pre></td><td style='font-family:monospace;' title='(3, 5)'><pre> 2.</pre></td><td style='font-family:monospace;' title='(3, 6)'><pre> 3.</pre></td><td style='font-family:monospace;' title='(3, 7)'><pre> 4.</pre></td><td style='font-family:monospace;' title='(3, 8)'><pre> 5.</pre></td></tr><tr><td style='font-family:monospace;' title='(4, 0)'><pre> 3.</pre></td><td style='font-family:monospace;' title='(4, 1)'><pre> 2.</pre></td><td style='font-family:monospace;' title='(4, 2)'><pre> 1.</pre></td><td style='font-family:monospace;' title='(4, 3)'><pre> 0.</pre></td><td style='font-family:monospace;' title='(4, 4)'><pre> 1.</pre></td><td style='font-family:monospace;' title='(4, 5)'><pre> 2.</pre></td><td style='font-family:monospace;' title='(4, 6)'><pre> 3.</pre></td><td style='font-family:monospace;' title='(4, 7)'><pre> 4.</pre></td><td style='font-family:monospace;' title='(4, 8)'><pre> 5.</pre></td></tr><tr><td style='font-family:monospace;' title='(5, 0)'><pre>-1.</pre></td><td style='font-family:monospace;' title='(5, 1)'><pre>-1.</pre></td><td style='font-family:monospace;' title='(5, 2)'><pre>-1.</pre></td><td style='font-family:monospace;' title='(5, 3)'><pre>-1.</pre></td><td style='font-family:monospace;' title='(5, 4)'><pre>-1.</pre></td><td style='font-family:monospace;' title='(5, 5)'><pre>-1.</pre></td><td style='font-family:monospace;' title='(5, 6)'><pre>-1.</pre></td><td style='font-family:monospace;' title='(5, 7)'><pre>-1.</pre></td><td style='font-family:monospace;' title='(5, 8)'><pre>-1.</pre></td></tr><tr><td style='font-family:monospace;' title='(6, 0)'><pre>-1.</pre></td><td style='font-family:monospace;' title='(6, 1)'><pre>-1.</pre></td><td style='font-family:monospace;' title='(6, 2)'><pre>-1.</pre></td><td style='font-family:monospace;' title='(6, 3)'><pre>-1.</pre></td><td style='font-family:monospace;' title='(6, 4)'><pre>-1.</pre></td><td style='font-family:monospace;' title='(6, 5)'><pre>-1.</pre></td><td style='font-family:monospace;' title='(6, 6)'><pre>-1.</pre></td><td style='font-family:monospace;' title='(6, 7)'><pre>-1.</pre></td><td style='font-family:monospace;' title='(6, 8)'><pre>-1.</pre></td></tr><tr><td style='font-family:monospace;' title='(7, 0)'><pre>-1.</pre></td><td style='font-family:monospace;' title='(7, 1)'><pre>-1.</pre></td><td style='font-family:monospace;' title='(7, 2)'><pre>-1.</pre></td><td style='font-family:monospace;' title='(7, 3)'><pre>-1.</pre></td><td style='font-family:monospace;' title='(7, 4)'><pre>-1.</pre></td><td style='font-family:monospace;' title='(7, 5)'><pre>-1.</pre></td><td style='font-family:monospace;' title='(7, 6)'><pre>-1.</pre></td><td style='font-family:monospace;' title='(7, 7)'><pre>-1.</pre></td><td style='font-family:monospace;' title='(7, 8)'><pre>-1.</pre></td></tr><tr><td style='font-family:monospace;' title='(8, 0)'><pre> 8.</pre></td><td style='font-family:monospace;' title='(8, 1)'><pre> 7.</pre></td><td style='font-family:monospace;' title='(8, 2)'><pre> 6.</pre></td><td style='font-family:monospace;' title='(8, 3)'><pre> 5.</pre></td><td style='font-family:monospace;' title='(8, 4)'><pre> 4.</pre></td><td style='font-family:monospace;' title='(8, 5)'><pre> 3.</pre></td><td style='font-family:monospace;' title='(8, 6)'><pre> 2.</pre></td><td style='font-family:monospace;' title='(8, 7)'><pre> 1.</pre></td><td style='font-family:monospace;' title='(8, 8)'><pre> 0.</pre></td></tr></tbody></table>"
      ]
     },
     "execution_count": 6,
     "metadata": {},
     "output_type": "execute_result"
    }
   ],
   "source": [
    "/* Looping horizontally throughout the matrix */\n",
    "for (int i = 0; i < N; ++i)\n",
    "{\n",
    "    iter1 = 1; // Reseting the iterator\n",
    "    iter2 = 1; // Reseting the iterator\n",
    "    \n",
    "    for (int j = 0; j < M; ++j)\n",
    "    {\n",
    "        iter1 = 1; // Reseting the iterator\n",
    "        iter2 = 1; // Reseting the iterator\n",
    "        \n",
    "        if (global_map(i,j) == 0)\n",
    "        {\n",
    "           for (int l = 1; l < j+1; ++l) // Goes to the left \n",
    "           {   \n",
    "                if (global_map(i,j-l) == 0) // Let the 0s seen there\n",
    "                {\n",
    "                    global_map(i,j) = 0;\n",
    "                    iter1 = 0; \n",
    "                }\n",
    "                else if(global_map(i,j-l) != 0)\n",
    "                {\n",
    "                    global_map(i,j-l) = iter1; \n",
    "                }\n",
    "                \n",
    "                ++iter1;\n",
    "           } \n",
    "            \n",
    "           for (int k = 1; k < (M - j); ++k) // Goes to the right \n",
    "           {\n",
    "                if (global_map(i,j+k) == 0) // Let the 0s seen there\n",
    "                {\n",
    "                    global_map(i,j) = 0;\n",
    "                }\n",
    "                else if (global_map(i,j+k) != 0)\n",
    "                {\n",
    "                    global_map(i,j+k) = iter2;\n",
    "                }  \n",
    "               \n",
    "                ++iter2;\n",
    "           }              \n",
    "          \n",
    "        }        \n",
    "    }\n",
    "}\n",
    "\n",
    "global_map"
   ]
  },
  {
   "cell_type": "code",
   "execution_count": 7,
   "metadata": {},
   "outputs": [],
   "source": [
    "/* Variables */\n",
    "int k = 1;\n",
    "\n",
    "for (int i = 0; i < N; ++i)\n",
    "{\n",
    "    k = 1; // Reseting variable\n",
    "    for (int j = 0; j < M; ++j)\n",
    "    {\n",
    "        k = 1; // Reseting variable\n",
    "        \n",
    "        if (global_map(i,j) == 0 && global_map(i,j+1) > 1)\n",
    "        {\n",
    "            while (global_map(i,j+k) > k)\n",
    "            {\n",
    "                global_map(i,j+k) = k;\n",
    "                ++k;\n",
    "            }\n",
    "                \n",
    "        }\n",
    "        \n",
    "    }\n",
    "}\n",
    "\n"
   ]
  },
  {
   "cell_type": "code",
   "execution_count": 8,
   "metadata": {},
   "outputs": [
    {
     "data": {
      "text/html": [
       "<table style='border-style:solid;border-width:1px;'><tbody><tr><td style='font-family:monospace;' title='(0, 0)'><pre>-1.</pre></td><td style='font-family:monospace;' title='(0, 1)'><pre>-1.</pre></td><td style='font-family:monospace;' title='(0, 2)'><pre>-1.</pre></td><td style='font-family:monospace;' title='(0, 3)'><pre>-1.</pre></td><td style='font-family:monospace;' title='(0, 4)'><pre>-1.</pre></td><td style='font-family:monospace;' title='(0, 5)'><pre>-1.</pre></td><td style='font-family:monospace;' title='(0, 6)'><pre>-1.</pre></td><td style='font-family:monospace;' title='(0, 7)'><pre>-1.</pre></td><td style='font-family:monospace;' title='(0, 8)'><pre>-1.</pre></td></tr><tr><td style='font-family:monospace;' title='(1, 0)'><pre> 1.</pre></td><td style='font-family:monospace;' title='(1, 1)'><pre> 0.</pre></td><td style='font-family:monospace;' title='(1, 2)'><pre> 1.</pre></td><td style='font-family:monospace;' title='(1, 3)'><pre> 2.</pre></td><td style='font-family:monospace;' title='(1, 4)'><pre> 3.</pre></td><td style='font-family:monospace;' title='(1, 5)'><pre> 4.</pre></td><td style='font-family:monospace;' title='(1, 6)'><pre> 5.</pre></td><td style='font-family:monospace;' title='(1, 7)'><pre> 6.</pre></td><td style='font-family:monospace;' title='(1, 8)'><pre> 7.</pre></td></tr><tr><td style='font-family:monospace;' title='(2, 0)'><pre> 2.</pre></td><td style='font-family:monospace;' title='(2, 1)'><pre> 1.</pre></td><td style='font-family:monospace;' title='(2, 2)'><pre> 0.</pre></td><td style='font-family:monospace;' title='(2, 3)'><pre> 1.</pre></td><td style='font-family:monospace;' title='(2, 4)'><pre> 2.</pre></td><td style='font-family:monospace;' title='(2, 5)'><pre> 3.</pre></td><td style='font-family:monospace;' title='(2, 6)'><pre> 4.</pre></td><td style='font-family:monospace;' title='(2, 7)'><pre> 5.</pre></td><td style='font-family:monospace;' title='(2, 8)'><pre> 6.</pre></td></tr><tr><td style='font-family:monospace;' title='(3, 0)'><pre> 3.</pre></td><td style='font-family:monospace;' title='(3, 1)'><pre> 2.</pre></td><td style='font-family:monospace;' title='(3, 2)'><pre> 1.</pre></td><td style='font-family:monospace;' title='(3, 3)'><pre> 0.</pre></td><td style='font-family:monospace;' title='(3, 4)'><pre> 1.</pre></td><td style='font-family:monospace;' title='(3, 5)'><pre> 2.</pre></td><td style='font-family:monospace;' title='(3, 6)'><pre> 3.</pre></td><td style='font-family:monospace;' title='(3, 7)'><pre> 4.</pre></td><td style='font-family:monospace;' title='(3, 8)'><pre> 5.</pre></td></tr><tr><td style='font-family:monospace;' title='(4, 0)'><pre> 3.</pre></td><td style='font-family:monospace;' title='(4, 1)'><pre> 2.</pre></td><td style='font-family:monospace;' title='(4, 2)'><pre> 1.</pre></td><td style='font-family:monospace;' title='(4, 3)'><pre> 0.</pre></td><td style='font-family:monospace;' title='(4, 4)'><pre> 1.</pre></td><td style='font-family:monospace;' title='(4, 5)'><pre> 2.</pre></td><td style='font-family:monospace;' title='(4, 6)'><pre> 3.</pre></td><td style='font-family:monospace;' title='(4, 7)'><pre> 4.</pre></td><td style='font-family:monospace;' title='(4, 8)'><pre> 5.</pre></td></tr><tr><td style='font-family:monospace;' title='(5, 0)'><pre>-1.</pre></td><td style='font-family:monospace;' title='(5, 1)'><pre>-1.</pre></td><td style='font-family:monospace;' title='(5, 2)'><pre>-1.</pre></td><td style='font-family:monospace;' title='(5, 3)'><pre>-1.</pre></td><td style='font-family:monospace;' title='(5, 4)'><pre>-1.</pre></td><td style='font-family:monospace;' title='(5, 5)'><pre>-1.</pre></td><td style='font-family:monospace;' title='(5, 6)'><pre>-1.</pre></td><td style='font-family:monospace;' title='(5, 7)'><pre>-1.</pre></td><td style='font-family:monospace;' title='(5, 8)'><pre>-1.</pre></td></tr><tr><td style='font-family:monospace;' title='(6, 0)'><pre>-1.</pre></td><td style='font-family:monospace;' title='(6, 1)'><pre>-1.</pre></td><td style='font-family:monospace;' title='(6, 2)'><pre>-1.</pre></td><td style='font-family:monospace;' title='(6, 3)'><pre>-1.</pre></td><td style='font-family:monospace;' title='(6, 4)'><pre>-1.</pre></td><td style='font-family:monospace;' title='(6, 5)'><pre>-1.</pre></td><td style='font-family:monospace;' title='(6, 6)'><pre>-1.</pre></td><td style='font-family:monospace;' title='(6, 7)'><pre>-1.</pre></td><td style='font-family:monospace;' title='(6, 8)'><pre>-1.</pre></td></tr><tr><td style='font-family:monospace;' title='(7, 0)'><pre>-1.</pre></td><td style='font-family:monospace;' title='(7, 1)'><pre>-1.</pre></td><td style='font-family:monospace;' title='(7, 2)'><pre>-1.</pre></td><td style='font-family:monospace;' title='(7, 3)'><pre>-1.</pre></td><td style='font-family:monospace;' title='(7, 4)'><pre>-1.</pre></td><td style='font-family:monospace;' title='(7, 5)'><pre>-1.</pre></td><td style='font-family:monospace;' title='(7, 6)'><pre>-1.</pre></td><td style='font-family:monospace;' title='(7, 7)'><pre>-1.</pre></td><td style='font-family:monospace;' title='(7, 8)'><pre>-1.</pre></td></tr><tr><td style='font-family:monospace;' title='(8, 0)'><pre> 8.</pre></td><td style='font-family:monospace;' title='(8, 1)'><pre> 7.</pre></td><td style='font-family:monospace;' title='(8, 2)'><pre> 6.</pre></td><td style='font-family:monospace;' title='(8, 3)'><pre> 5.</pre></td><td style='font-family:monospace;' title='(8, 4)'><pre> 4.</pre></td><td style='font-family:monospace;' title='(8, 5)'><pre> 3.</pre></td><td style='font-family:monospace;' title='(8, 6)'><pre> 2.</pre></td><td style='font-family:monospace;' title='(8, 7)'><pre> 1.</pre></td><td style='font-family:monospace;' title='(8, 8)'><pre> 0.</pre></td></tr></tbody></table>"
      ]
     },
     "execution_count": 8,
     "metadata": {},
     "output_type": "execute_result"
    }
   ],
   "source": [
    "global_map"
   ]
  },
  {
   "cell_type": "code",
   "execution_count": 9,
   "metadata": {},
   "outputs": [
    {
     "data": {
      "text/html": [
       "<table style='border-style:solid;border-width:1px;'><tbody><tr><td style='font-family:monospace;' title='(0, 0)'><pre>-1.</pre></td><td style='font-family:monospace;' title='(0, 1)'><pre>-1.</pre></td><td style='font-family:monospace;' title='(0, 2)'><pre>-1.</pre></td><td style='font-family:monospace;' title='(0, 3)'><pre>-1.</pre></td><td style='font-family:monospace;' title='(0, 4)'><pre>-1.</pre></td><td style='font-family:monospace;' title='(0, 5)'><pre>-1.</pre></td><td style='font-family:monospace;' title='(0, 6)'><pre>-1.</pre></td><td style='font-family:monospace;' title='(0, 7)'><pre>-1.</pre></td><td style='font-family:monospace;' title='(0, 8)'><pre>-1.</pre></td></tr><tr><td style='font-family:monospace;' title='(1, 0)'><pre>-1.</pre></td><td style='font-family:monospace;' title='(1, 1)'><pre> 0.</pre></td><td style='font-family:monospace;' title='(1, 2)'><pre>-1.</pre></td><td style='font-family:monospace;' title='(1, 3)'><pre>-1.</pre></td><td style='font-family:monospace;' title='(1, 4)'><pre>-1.</pre></td><td style='font-family:monospace;' title='(1, 5)'><pre>-1.</pre></td><td style='font-family:monospace;' title='(1, 6)'><pre>-1.</pre></td><td style='font-family:monospace;' title='(1, 7)'><pre>-1.</pre></td><td style='font-family:monospace;' title='(1, 8)'><pre>-1.</pre></td></tr><tr><td style='font-family:monospace;' title='(2, 0)'><pre>-1.</pre></td><td style='font-family:monospace;' title='(2, 1)'><pre>-1.</pre></td><td style='font-family:monospace;' title='(2, 2)'><pre> 0.</pre></td><td style='font-family:monospace;' title='(2, 3)'><pre>-1.</pre></td><td style='font-family:monospace;' title='(2, 4)'><pre>-1.</pre></td><td style='font-family:monospace;' title='(2, 5)'><pre>-1.</pre></td><td style='font-family:monospace;' title='(2, 6)'><pre>-1.</pre></td><td style='font-family:monospace;' title='(2, 7)'><pre>-1.</pre></td><td style='font-family:monospace;' title='(2, 8)'><pre>-1.</pre></td></tr><tr><td style='font-family:monospace;' title='(3, 0)'><pre>-1.</pre></td><td style='font-family:monospace;' title='(3, 1)'><pre>-1.</pre></td><td style='font-family:monospace;' title='(3, 2)'><pre>-1.</pre></td><td style='font-family:monospace;' title='(3, 3)'><pre> 0.</pre></td><td style='font-family:monospace;' title='(3, 4)'><pre>-1.</pre></td><td style='font-family:monospace;' title='(3, 5)'><pre>-1.</pre></td><td style='font-family:monospace;' title='(3, 6)'><pre>-1.</pre></td><td style='font-family:monospace;' title='(3, 7)'><pre>-1.</pre></td><td style='font-family:monospace;' title='(3, 8)'><pre>-1.</pre></td></tr><tr><td style='font-family:monospace;' title='(4, 0)'><pre>-1.</pre></td><td style='font-family:monospace;' title='(4, 1)'><pre>-1.</pre></td><td style='font-family:monospace;' title='(4, 2)'><pre>-1.</pre></td><td style='font-family:monospace;' title='(4, 3)'><pre> 0.</pre></td><td style='font-family:monospace;' title='(4, 4)'><pre>-1.</pre></td><td style='font-family:monospace;' title='(4, 5)'><pre>-1.</pre></td><td style='font-family:monospace;' title='(4, 6)'><pre>-1.</pre></td><td style='font-family:monospace;' title='(4, 7)'><pre>-1.</pre></td><td style='font-family:monospace;' title='(4, 8)'><pre>-1.</pre></td></tr><tr><td style='font-family:monospace;' title='(5, 0)'><pre>-1.</pre></td><td style='font-family:monospace;' title='(5, 1)'><pre>-1.</pre></td><td style='font-family:monospace;' title='(5, 2)'><pre>-1.</pre></td><td style='font-family:monospace;' title='(5, 3)'><pre>-1.</pre></td><td style='font-family:monospace;' title='(5, 4)'><pre>-1.</pre></td><td style='font-family:monospace;' title='(5, 5)'><pre>-1.</pre></td><td style='font-family:monospace;' title='(5, 6)'><pre>-1.</pre></td><td style='font-family:monospace;' title='(5, 7)'><pre>-1.</pre></td><td style='font-family:monospace;' title='(5, 8)'><pre>-1.</pre></td></tr><tr><td style='font-family:monospace;' title='(6, 0)'><pre>-1.</pre></td><td style='font-family:monospace;' title='(6, 1)'><pre>-1.</pre></td><td style='font-family:monospace;' title='(6, 2)'><pre>-1.</pre></td><td style='font-family:monospace;' title='(6, 3)'><pre>-1.</pre></td><td style='font-family:monospace;' title='(6, 4)'><pre>-1.</pre></td><td style='font-family:monospace;' title='(6, 5)'><pre>-1.</pre></td><td style='font-family:monospace;' title='(6, 6)'><pre>-1.</pre></td><td style='font-family:monospace;' title='(6, 7)'><pre>-1.</pre></td><td style='font-family:monospace;' title='(6, 8)'><pre>-1.</pre></td></tr><tr><td style='font-family:monospace;' title='(7, 0)'><pre>-1.</pre></td><td style='font-family:monospace;' title='(7, 1)'><pre>-1.</pre></td><td style='font-family:monospace;' title='(7, 2)'><pre>-1.</pre></td><td style='font-family:monospace;' title='(7, 3)'><pre>-1.</pre></td><td style='font-family:monospace;' title='(7, 4)'><pre>-1.</pre></td><td style='font-family:monospace;' title='(7, 5)'><pre>-1.</pre></td><td style='font-family:monospace;' title='(7, 6)'><pre>-1.</pre></td><td style='font-family:monospace;' title='(7, 7)'><pre>-1.</pre></td><td style='font-family:monospace;' title='(7, 8)'><pre>-1.</pre></td></tr><tr><td style='font-family:monospace;' title='(8, 0)'><pre>-1.</pre></td><td style='font-family:monospace;' title='(8, 1)'><pre>-1.</pre></td><td style='font-family:monospace;' title='(8, 2)'><pre>-1.</pre></td><td style='font-family:monospace;' title='(8, 3)'><pre>-1.</pre></td><td style='font-family:monospace;' title='(8, 4)'><pre>-1.</pre></td><td style='font-family:monospace;' title='(8, 5)'><pre>-1.</pre></td><td style='font-family:monospace;' title='(8, 6)'><pre>-1.</pre></td><td style='font-family:monospace;' title='(8, 7)'><pre>-1.</pre></td><td style='font-family:monospace;' title='(8, 8)'><pre> 0.</pre></td></tr></tbody></table>"
      ]
     },
     "execution_count": 9,
     "metadata": {},
     "output_type": "execute_result"
    }
   ],
   "source": [
    "mat_h = global_map; // Saving the map done hotizontally \n",
    "temporal_mat_h = mat_h; // Storing mat_h \n",
    "global_map = negative_ones; // Reseting the whole map"
   ]
  },
  {
   "cell_type": "markdown",
   "metadata": {},
   "source": [
    "## Vertical Matrix (mat_v)"
   ]
  },
  {
   "cell_type": "markdown",
   "metadata": {},
   "source": [
    "Now we consider from the zeros that are our local map and assign a value starting from 1 up to the last considered"
   ]
  },
  {
   "cell_type": "code",
   "execution_count": 10,
   "metadata": {},
   "outputs": [
    {
     "data": {
      "text/html": [
       "<table style='border-style:solid;border-width:1px;'><tbody><tr><td style='font-family:monospace;' title='(0, 0)'><pre>-1.</pre></td><td style='font-family:monospace;' title='(0, 1)'><pre> 1.</pre></td><td style='font-family:monospace;' title='(0, 2)'><pre> 2.</pre></td><td style='font-family:monospace;' title='(0, 3)'><pre> 3.</pre></td><td style='font-family:monospace;' title='(0, 4)'><pre>-1.</pre></td><td style='font-family:monospace;' title='(0, 5)'><pre>-1.</pre></td><td style='font-family:monospace;' title='(0, 6)'><pre>-1.</pre></td><td style='font-family:monospace;' title='(0, 7)'><pre>-1.</pre></td><td style='font-family:monospace;' title='(0, 8)'><pre> 8.</pre></td></tr><tr><td style='font-family:monospace;' title='(1, 0)'><pre>-1.</pre></td><td style='font-family:monospace;' title='(1, 1)'><pre> 0.</pre></td><td style='font-family:monospace;' title='(1, 2)'><pre> 1.</pre></td><td style='font-family:monospace;' title='(1, 3)'><pre> 2.</pre></td><td style='font-family:monospace;' title='(1, 4)'><pre>-1.</pre></td><td style='font-family:monospace;' title='(1, 5)'><pre>-1.</pre></td><td style='font-family:monospace;' title='(1, 6)'><pre>-1.</pre></td><td style='font-family:monospace;' title='(1, 7)'><pre>-1.</pre></td><td style='font-family:monospace;' title='(1, 8)'><pre> 7.</pre></td></tr><tr><td style='font-family:monospace;' title='(2, 0)'><pre>-1.</pre></td><td style='font-family:monospace;' title='(2, 1)'><pre> 1.</pre></td><td style='font-family:monospace;' title='(2, 2)'><pre> 0.</pre></td><td style='font-family:monospace;' title='(2, 3)'><pre> 1.</pre></td><td style='font-family:monospace;' title='(2, 4)'><pre>-1.</pre></td><td style='font-family:monospace;' title='(2, 5)'><pre>-1.</pre></td><td style='font-family:monospace;' title='(2, 6)'><pre>-1.</pre></td><td style='font-family:monospace;' title='(2, 7)'><pre>-1.</pre></td><td style='font-family:monospace;' title='(2, 8)'><pre> 6.</pre></td></tr><tr><td style='font-family:monospace;' title='(3, 0)'><pre>-1.</pre></td><td style='font-family:monospace;' title='(3, 1)'><pre> 2.</pre></td><td style='font-family:monospace;' title='(3, 2)'><pre> 1.</pre></td><td style='font-family:monospace;' title='(3, 3)'><pre> 0.</pre></td><td style='font-family:monospace;' title='(3, 4)'><pre>-1.</pre></td><td style='font-family:monospace;' title='(3, 5)'><pre>-1.</pre></td><td style='font-family:monospace;' title='(3, 6)'><pre>-1.</pre></td><td style='font-family:monospace;' title='(3, 7)'><pre>-1.</pre></td><td style='font-family:monospace;' title='(3, 8)'><pre> 5.</pre></td></tr><tr><td style='font-family:monospace;' title='(4, 0)'><pre>-1.</pre></td><td style='font-family:monospace;' title='(4, 1)'><pre> 3.</pre></td><td style='font-family:monospace;' title='(4, 2)'><pre> 2.</pre></td><td style='font-family:monospace;' title='(4, 3)'><pre> 0.</pre></td><td style='font-family:monospace;' title='(4, 4)'><pre>-1.</pre></td><td style='font-family:monospace;' title='(4, 5)'><pre>-1.</pre></td><td style='font-family:monospace;' title='(4, 6)'><pre>-1.</pre></td><td style='font-family:monospace;' title='(4, 7)'><pre>-1.</pre></td><td style='font-family:monospace;' title='(4, 8)'><pre> 4.</pre></td></tr><tr><td style='font-family:monospace;' title='(5, 0)'><pre>-1.</pre></td><td style='font-family:monospace;' title='(5, 1)'><pre> 4.</pre></td><td style='font-family:monospace;' title='(5, 2)'><pre> 3.</pre></td><td style='font-family:monospace;' title='(5, 3)'><pre> 1.</pre></td><td style='font-family:monospace;' title='(5, 4)'><pre>-1.</pre></td><td style='font-family:monospace;' title='(5, 5)'><pre>-1.</pre></td><td style='font-family:monospace;' title='(5, 6)'><pre>-1.</pre></td><td style='font-family:monospace;' title='(5, 7)'><pre>-1.</pre></td><td style='font-family:monospace;' title='(5, 8)'><pre> 3.</pre></td></tr><tr><td style='font-family:monospace;' title='(6, 0)'><pre>-1.</pre></td><td style='font-family:monospace;' title='(6, 1)'><pre> 5.</pre></td><td style='font-family:monospace;' title='(6, 2)'><pre> 4.</pre></td><td style='font-family:monospace;' title='(6, 3)'><pre> 2.</pre></td><td style='font-family:monospace;' title='(6, 4)'><pre>-1.</pre></td><td style='font-family:monospace;' title='(6, 5)'><pre>-1.</pre></td><td style='font-family:monospace;' title='(6, 6)'><pre>-1.</pre></td><td style='font-family:monospace;' title='(6, 7)'><pre>-1.</pre></td><td style='font-family:monospace;' title='(6, 8)'><pre> 2.</pre></td></tr><tr><td style='font-family:monospace;' title='(7, 0)'><pre>-1.</pre></td><td style='font-family:monospace;' title='(7, 1)'><pre> 6.</pre></td><td style='font-family:monospace;' title='(7, 2)'><pre> 5.</pre></td><td style='font-family:monospace;' title='(7, 3)'><pre> 3.</pre></td><td style='font-family:monospace;' title='(7, 4)'><pre>-1.</pre></td><td style='font-family:monospace;' title='(7, 5)'><pre>-1.</pre></td><td style='font-family:monospace;' title='(7, 6)'><pre>-1.</pre></td><td style='font-family:monospace;' title='(7, 7)'><pre>-1.</pre></td><td style='font-family:monospace;' title='(7, 8)'><pre> 1.</pre></td></tr><tr><td style='font-family:monospace;' title='(8, 0)'><pre>-1.</pre></td><td style='font-family:monospace;' title='(8, 1)'><pre> 7.</pre></td><td style='font-family:monospace;' title='(8, 2)'><pre> 6.</pre></td><td style='font-family:monospace;' title='(8, 3)'><pre> 4.</pre></td><td style='font-family:monospace;' title='(8, 4)'><pre>-1.</pre></td><td style='font-family:monospace;' title='(8, 5)'><pre>-1.</pre></td><td style='font-family:monospace;' title='(8, 6)'><pre>-1.</pre></td><td style='font-family:monospace;' title='(8, 7)'><pre>-1.</pre></td><td style='font-family:monospace;' title='(8, 8)'><pre> 0.</pre></td></tr></tbody></table>"
      ]
     },
     "execution_count": 10,
     "metadata": {},
     "output_type": "execute_result"
    }
   ],
   "source": [
    "/* Looping horizontally throughout the matrix */\n",
    "for (int i = 0; i < N; ++i)\n",
    "{\n",
    "    iter1 = 1; // Reseting the iterator\n",
    "    iter2 = 1; // Reseting the iterator\n",
    "    \n",
    "    for (int j = 0; j < M; ++j)\n",
    "    {\n",
    "        iter1 = 1; // Reseting the iterator\n",
    "        iter2 = 1; // Reseting the iterator\n",
    "        \n",
    "        if (global_map(i,j) == 0)\n",
    "        {\n",
    "           for (int l = 1; l < i+1; ++l) // Goes to the left \n",
    "           {   \n",
    "                if (global_map(i-l,j) == 0) // Let the 0s seen there\n",
    "                {\n",
    "                    global_map(i,j) = 0;\n",
    "                    iter1 = 0; // Reseting the iterator\n",
    "                }\n",
    "                else if(global_map(i-l,j) != 0)\n",
    "                {\n",
    "                    global_map(i-l,j) = iter1; \n",
    "                }\n",
    "                \n",
    "                ++iter1;\n",
    "           } \n",
    "            \n",
    "           for (int k = 1; k < (N - i); ++k) // Goes to the right \n",
    "           {\n",
    "                if (global_map(i+k,j) == 0) // Let the 0s seen there\n",
    "                {\n",
    "                    global_map(i,j) = 0;\n",
    "                }\n",
    "                else if (global_map(i+k,j) != 0)\n",
    "                {\n",
    "                    global_map(i+k,j) = iter2;\n",
    "                }  \n",
    "               \n",
    "                ++iter2;\n",
    "           }              \n",
    "          \n",
    "        }        \n",
    "    }\n",
    "}\n",
    "global_map"
   ]
  },
  {
   "cell_type": "code",
   "execution_count": 11,
   "metadata": {},
   "outputs": [],
   "source": [
    "for (int i = 0; i < N; ++i)\n",
    "{\n",
    "    k = 1; // Reseting variable\n",
    "    for (int j = 0; j < M; ++j)\n",
    "    {\n",
    "        k = 1; // Reseting variable\n",
    "        \n",
    "        if (global_map(i,j) == 0 && global_map(i+1,j) > 1)\n",
    "        {\n",
    "            while (global_map(i+k,j) > k)\n",
    "            {\n",
    "                global_map(i+k,j) = k;\n",
    "                ++k;\n",
    "            }\n",
    "                \n",
    "        }\n",
    "        \n",
    "    }\n",
    "}"
   ]
  },
  {
   "cell_type": "code",
   "execution_count": 12,
   "metadata": {},
   "outputs": [
    {
     "data": {
      "text/html": [
       "<table style='border-style:solid;border-width:1px;'><tbody><tr><td style='font-family:monospace;' title='(0, 0)'><pre>-1.</pre></td><td style='font-family:monospace;' title='(0, 1)'><pre> 1.</pre></td><td style='font-family:monospace;' title='(0, 2)'><pre> 2.</pre></td><td style='font-family:monospace;' title='(0, 3)'><pre> 3.</pre></td><td style='font-family:monospace;' title='(0, 4)'><pre>-1.</pre></td><td style='font-family:monospace;' title='(0, 5)'><pre>-1.</pre></td><td style='font-family:monospace;' title='(0, 6)'><pre>-1.</pre></td><td style='font-family:monospace;' title='(0, 7)'><pre>-1.</pre></td><td style='font-family:monospace;' title='(0, 8)'><pre> 8.</pre></td></tr><tr><td style='font-family:monospace;' title='(1, 0)'><pre>-1.</pre></td><td style='font-family:monospace;' title='(1, 1)'><pre> 0.</pre></td><td style='font-family:monospace;' title='(1, 2)'><pre> 1.</pre></td><td style='font-family:monospace;' title='(1, 3)'><pre> 2.</pre></td><td style='font-family:monospace;' title='(1, 4)'><pre>-1.</pre></td><td style='font-family:monospace;' title='(1, 5)'><pre>-1.</pre></td><td style='font-family:monospace;' title='(1, 6)'><pre>-1.</pre></td><td style='font-family:monospace;' title='(1, 7)'><pre>-1.</pre></td><td style='font-family:monospace;' title='(1, 8)'><pre> 7.</pre></td></tr><tr><td style='font-family:monospace;' title='(2, 0)'><pre>-1.</pre></td><td style='font-family:monospace;' title='(2, 1)'><pre> 1.</pre></td><td style='font-family:monospace;' title='(2, 2)'><pre> 0.</pre></td><td style='font-family:monospace;' title='(2, 3)'><pre> 1.</pre></td><td style='font-family:monospace;' title='(2, 4)'><pre>-1.</pre></td><td style='font-family:monospace;' title='(2, 5)'><pre>-1.</pre></td><td style='font-family:monospace;' title='(2, 6)'><pre>-1.</pre></td><td style='font-family:monospace;' title='(2, 7)'><pre>-1.</pre></td><td style='font-family:monospace;' title='(2, 8)'><pre> 6.</pre></td></tr><tr><td style='font-family:monospace;' title='(3, 0)'><pre>-1.</pre></td><td style='font-family:monospace;' title='(3, 1)'><pre> 2.</pre></td><td style='font-family:monospace;' title='(3, 2)'><pre> 1.</pre></td><td style='font-family:monospace;' title='(3, 3)'><pre> 0.</pre></td><td style='font-family:monospace;' title='(3, 4)'><pre>-1.</pre></td><td style='font-family:monospace;' title='(3, 5)'><pre>-1.</pre></td><td style='font-family:monospace;' title='(3, 6)'><pre>-1.</pre></td><td style='font-family:monospace;' title='(3, 7)'><pre>-1.</pre></td><td style='font-family:monospace;' title='(3, 8)'><pre> 5.</pre></td></tr><tr><td style='font-family:monospace;' title='(4, 0)'><pre>-1.</pre></td><td style='font-family:monospace;' title='(4, 1)'><pre> 3.</pre></td><td style='font-family:monospace;' title='(4, 2)'><pre> 2.</pre></td><td style='font-family:monospace;' title='(4, 3)'><pre> 0.</pre></td><td style='font-family:monospace;' title='(4, 4)'><pre>-1.</pre></td><td style='font-family:monospace;' title='(4, 5)'><pre>-1.</pre></td><td style='font-family:monospace;' title='(4, 6)'><pre>-1.</pre></td><td style='font-family:monospace;' title='(4, 7)'><pre>-1.</pre></td><td style='font-family:monospace;' title='(4, 8)'><pre> 4.</pre></td></tr><tr><td style='font-family:monospace;' title='(5, 0)'><pre>-1.</pre></td><td style='font-family:monospace;' title='(5, 1)'><pre> 4.</pre></td><td style='font-family:monospace;' title='(5, 2)'><pre> 3.</pre></td><td style='font-family:monospace;' title='(5, 3)'><pre> 1.</pre></td><td style='font-family:monospace;' title='(5, 4)'><pre>-1.</pre></td><td style='font-family:monospace;' title='(5, 5)'><pre>-1.</pre></td><td style='font-family:monospace;' title='(5, 6)'><pre>-1.</pre></td><td style='font-family:monospace;' title='(5, 7)'><pre>-1.</pre></td><td style='font-family:monospace;' title='(5, 8)'><pre> 3.</pre></td></tr><tr><td style='font-family:monospace;' title='(6, 0)'><pre>-1.</pre></td><td style='font-family:monospace;' title='(6, 1)'><pre> 5.</pre></td><td style='font-family:monospace;' title='(6, 2)'><pre> 4.</pre></td><td style='font-family:monospace;' title='(6, 3)'><pre> 2.</pre></td><td style='font-family:monospace;' title='(6, 4)'><pre>-1.</pre></td><td style='font-family:monospace;' title='(6, 5)'><pre>-1.</pre></td><td style='font-family:monospace;' title='(6, 6)'><pre>-1.</pre></td><td style='font-family:monospace;' title='(6, 7)'><pre>-1.</pre></td><td style='font-family:monospace;' title='(6, 8)'><pre> 2.</pre></td></tr><tr><td style='font-family:monospace;' title='(7, 0)'><pre>-1.</pre></td><td style='font-family:monospace;' title='(7, 1)'><pre> 6.</pre></td><td style='font-family:monospace;' title='(7, 2)'><pre> 5.</pre></td><td style='font-family:monospace;' title='(7, 3)'><pre> 3.</pre></td><td style='font-family:monospace;' title='(7, 4)'><pre>-1.</pre></td><td style='font-family:monospace;' title='(7, 5)'><pre>-1.</pre></td><td style='font-family:monospace;' title='(7, 6)'><pre>-1.</pre></td><td style='font-family:monospace;' title='(7, 7)'><pre>-1.</pre></td><td style='font-family:monospace;' title='(7, 8)'><pre> 1.</pre></td></tr><tr><td style='font-family:monospace;' title='(8, 0)'><pre>-1.</pre></td><td style='font-family:monospace;' title='(8, 1)'><pre> 7.</pre></td><td style='font-family:monospace;' title='(8, 2)'><pre> 6.</pre></td><td style='font-family:monospace;' title='(8, 3)'><pre> 4.</pre></td><td style='font-family:monospace;' title='(8, 4)'><pre>-1.</pre></td><td style='font-family:monospace;' title='(8, 5)'><pre>-1.</pre></td><td style='font-family:monospace;' title='(8, 6)'><pre>-1.</pre></td><td style='font-family:monospace;' title='(8, 7)'><pre>-1.</pre></td><td style='font-family:monospace;' title='(8, 8)'><pre> 0.</pre></td></tr></tbody></table>"
      ]
     },
     "execution_count": 12,
     "metadata": {},
     "output_type": "execute_result"
    }
   ],
   "source": [
    "mat_v = global_map; // Saving the map done vertically\n",
    "temporal_mat_v = mat_v; // Storing mat_v"
   ]
  },
  {
   "cell_type": "markdown",
   "metadata": {},
   "source": [
    "## Going from top to bottom\n",
    "\n",
    "Next step is going loop from top to bottom, considering a large initial distance, a cell counter and a distance that will be computed as follows: \n",
    "$$ distance = \\sqrt{counter^2 + value\\ cell^2}$$\n",
    "The stop condition will be that the displacement counter ($counter$) be greater than the last distance computed ($distance_{n-1}$)"
   ]
  },
  {
   "cell_type": "code",
   "execution_count": 13,
   "metadata": {},
   "outputs": [
    {
     "data": {
      "text/html": [
       "<table style='border-style:solid;border-width:1px;'><tbody><tr><td style='font-family:monospace;' title='(0, 0)'><pre> 1.414214</pre></td><td style='font-family:monospace;' title='(0, 1)'><pre> 1.      </pre></td><td style='font-family:monospace;' title='(0, 2)'><pre> 1.414214</pre></td><td style='font-family:monospace;' title='(0, 3)'><pre> 2.236068</pre></td><td style='font-family:monospace;' title='(0, 4)'><pre> 2.828427</pre></td><td style='font-family:monospace;' title='(0, 5)'><pre> 3.605551</pre></td><td style='font-family:monospace;' title='(0, 6)'><pre> 4.24264 </pre></td><td style='font-family:monospace;' title='(0, 7)'><pre> 5.      </pre></td><td style='font-family:monospace;' title='(0, 8)'><pre> 5.830952</pre></td></tr><tr><td style='font-family:monospace;' title='(1, 0)'><pre> 1.      </pre></td><td style='font-family:monospace;' title='(1, 1)'><pre> 0.      </pre></td><td style='font-family:monospace;' title='(1, 2)'><pre> 1.      </pre></td><td style='font-family:monospace;' title='(1, 3)'><pre> 1.414214</pre></td><td style='font-family:monospace;' title='(1, 4)'><pre> 2.236068</pre></td><td style='font-family:monospace;' title='(1, 5)'><pre> 2.828427</pre></td><td style='font-family:monospace;' title='(1, 6)'><pre> 3.605551</pre></td><td style='font-family:monospace;' title='(1, 7)'><pre> 4.472136</pre></td><td style='font-family:monospace;' title='(1, 8)'><pre> 5.385165</pre></td></tr><tr><td style='font-family:monospace;' title='(2, 0)'><pre> 2.      </pre></td><td style='font-family:monospace;' title='(2, 1)'><pre> 1.      </pre></td><td style='font-family:monospace;' title='(2, 2)'><pre> 0.      </pre></td><td style='font-family:monospace;' title='(2, 3)'><pre> 1.      </pre></td><td style='font-family:monospace;' title='(2, 4)'><pre> 1.414214</pre></td><td style='font-family:monospace;' title='(2, 5)'><pre> 2.236068</pre></td><td style='font-family:monospace;' title='(2, 6)'><pre> 3.162278</pre></td><td style='font-family:monospace;' title='(2, 7)'><pre> 4.123106</pre></td><td style='font-family:monospace;' title='(2, 8)'><pre> 5.09902 </pre></td></tr><tr><td style='font-family:monospace;' title='(3, 0)'><pre> 3.      </pre></td><td style='font-family:monospace;' title='(3, 1)'><pre> 2.      </pre></td><td style='font-family:monospace;' title='(3, 2)'><pre> 1.      </pre></td><td style='font-family:monospace;' title='(3, 3)'><pre> 0.      </pre></td><td style='font-family:monospace;' title='(3, 4)'><pre> 1.      </pre></td><td style='font-family:monospace;' title='(3, 5)'><pre> 2.      </pre></td><td style='font-family:monospace;' title='(3, 6)'><pre> 3.      </pre></td><td style='font-family:monospace;' title='(3, 7)'><pre> 4.      </pre></td><td style='font-family:monospace;' title='(3, 8)'><pre> 5.      </pre></td></tr><tr><td style='font-family:monospace;' title='(4, 0)'><pre> 3.      </pre></td><td style='font-family:monospace;' title='(4, 1)'><pre> 2.      </pre></td><td style='font-family:monospace;' title='(4, 2)'><pre> 1.      </pre></td><td style='font-family:monospace;' title='(4, 3)'><pre> 0.      </pre></td><td style='font-family:monospace;' title='(4, 4)'><pre> 1.      </pre></td><td style='font-family:monospace;' title='(4, 5)'><pre> 2.      </pre></td><td style='font-family:monospace;' title='(4, 6)'><pre> 3.      </pre></td><td style='font-family:monospace;' title='(4, 7)'><pre> 4.      </pre></td><td style='font-family:monospace;' title='(4, 8)'><pre> 4.      </pre></td></tr><tr><td style='font-family:monospace;' title='(5, 0)'><pre> 8.544003</pre></td><td style='font-family:monospace;' title='(5, 1)'><pre> 7.615773</pre></td><td style='font-family:monospace;' title='(5, 2)'><pre> 6.708204</pre></td><td style='font-family:monospace;' title='(5, 3)'><pre> 5.830952</pre></td><td style='font-family:monospace;' title='(5, 4)'><pre> 5.      </pre></td><td style='font-family:monospace;' title='(5, 5)'><pre> 4.24264 </pre></td><td style='font-family:monospace;' title='(5, 6)'><pre> 3.605551</pre></td><td style='font-family:monospace;' title='(5, 7)'><pre> 3.162278</pre></td><td style='font-family:monospace;' title='(5, 8)'><pre> 3.      </pre></td></tr><tr><td style='font-family:monospace;' title='(6, 0)'><pre> 8.246211</pre></td><td style='font-family:monospace;' title='(6, 1)'><pre> 7.28011 </pre></td><td style='font-family:monospace;' title='(6, 2)'><pre> 6.324555</pre></td><td style='font-family:monospace;' title='(6, 3)'><pre> 5.385165</pre></td><td style='font-family:monospace;' title='(6, 4)'><pre> 4.472136</pre></td><td style='font-family:monospace;' title='(6, 5)'><pre> 3.605551</pre></td><td style='font-family:monospace;' title='(6, 6)'><pre> 2.828427</pre></td><td style='font-family:monospace;' title='(6, 7)'><pre> 2.236068</pre></td><td style='font-family:monospace;' title='(6, 8)'><pre> 2.      </pre></td></tr><tr><td style='font-family:monospace;' title='(7, 0)'><pre> 8.062258</pre></td><td style='font-family:monospace;' title='(7, 1)'><pre> 7.071068</pre></td><td style='font-family:monospace;' title='(7, 2)'><pre> 6.082763</pre></td><td style='font-family:monospace;' title='(7, 3)'><pre> 5.09902 </pre></td><td style='font-family:monospace;' title='(7, 4)'><pre> 4.123106</pre></td><td style='font-family:monospace;' title='(7, 5)'><pre> 3.162278</pre></td><td style='font-family:monospace;' title='(7, 6)'><pre> 2.236068</pre></td><td style='font-family:monospace;' title='(7, 7)'><pre> 1.414214</pre></td><td style='font-family:monospace;' title='(7, 8)'><pre> 1.      </pre></td></tr><tr><td style='font-family:monospace;' title='(8, 0)'><pre> 8.      </pre></td><td style='font-family:monospace;' title='(8, 1)'><pre> 7.      </pre></td><td style='font-family:monospace;' title='(8, 2)'><pre> 6.      </pre></td><td style='font-family:monospace;' title='(8, 3)'><pre> 5.      </pre></td><td style='font-family:monospace;' title='(8, 4)'><pre> 4.      </pre></td><td style='font-family:monospace;' title='(8, 5)'><pre> 3.      </pre></td><td style='font-family:monospace;' title='(8, 6)'><pre> 2.      </pre></td><td style='font-family:monospace;' title='(8, 7)'><pre> 1.      </pre></td><td style='font-family:monospace;' title='(8, 8)'><pre> 0.      </pre></td></tr></tbody></table>"
      ]
     },
     "execution_count": 13,
     "metadata": {},
     "output_type": "execute_result"
    }
   ],
   "source": [
    "for (int m = 0; m < N; ++m)\n",
    "{\n",
    "    for (int j = 0; j < M; ++j)\n",
    "    {\n",
    "        dist_less = 100;\n",
    "        disp_count = 0; \n",
    "        dist_new = 0;\n",
    "        \n",
    "        if (mat_h(m,j) != -1)\n",
    "        {\n",
    "            dist_less = temporal_mat_h(m,j);\n",
    "        }\n",
    "\n",
    "        for (int i = m+1; i < N; ++i)\n",
    "        {\n",
    "            if (mat_h(i,j) == -1)\n",
    "            {\n",
    "                ++disp_count;               \n",
    "            }\n",
    "            else if (mat_h(i,j) >= 0)\n",
    "            {\n",
    "                ++disp_count;\n",
    "\n",
    "                dist_new = sqrt((pow(disp_count,2)) + pow(mat_h(m + disp_count,j),2)); // Computing the distance            \n",
    "\n",
    "                if (dist_new < dist_less && mat_h(m,j) != 0) \n",
    "                {\n",
    "                    dist_less = dist_new; // Storing always the less distance between the initial distance and the computed one \n",
    "                    mat_h(m,j) = dist_less;\n",
    "                }\n",
    "                if (disp_count > dist_less)\n",
    "                {\n",
    "                    break; // Finishes the loop\n",
    "                }\n",
    "            }     \n",
    "        }\n",
    "    }\n",
    "}\n",
    "mat_h"
   ]
  },
  {
   "cell_type": "markdown",
   "metadata": {},
   "source": [
    "## Going from bottom to top\n",
    "\n",
    "Considering the previous operation now we loop from bottom to top in the matrix, considering the last results and taking the less between the computed in the next matrix and the last"
   ]
  },
  {
   "cell_type": "code",
   "execution_count": 14,
   "metadata": {},
   "outputs": [],
   "source": [
    "for (int m = N-1; m > -1; --m)\n",
    "{\n",
    "    for (int j = 0; j < M; ++j)\n",
    "    {\n",
    "        dist_less = 100;\n",
    "        disp_count = 0; \n",
    "        dist_new = 0;\n",
    "\n",
    "        for (int i = m-1; i > -1; --i)\n",
    "        {\n",
    "            if (mat_h(i,j) == -1)\n",
    "            {\n",
    "                ++disp_count;               \n",
    "            }\n",
    "            else if (mat_h(i,j) > 0)\n",
    "            {\n",
    "                ++disp_count;\n",
    "\n",
    "                dist_new = sqrt((pow(disp_count,2)) + pow(mat_h(i,j),2)); // Computing the distance            \n",
    "\n",
    "                if (dist_new < dist_less && mat_h(m,j) != 0) \n",
    "                {\n",
    "                    dist_less = dist_new; // Storing always the less distance between the initial distance and the computed one \n",
    "\n",
    "                    if (mat_h(m,j) > dist_less) \n",
    "                    {\n",
    "                        mat_h(m,j) = dist_less;\n",
    "                    }\n",
    "                }\n",
    "                if (disp_count > dist_less)\n",
    "                {\n",
    "                    break; // Finishes the loop\n",
    "                }\n",
    "            }     \n",
    "        }\n",
    "    }\n",
    "}"
   ]
  },
  {
   "cell_type": "code",
   "execution_count": 15,
   "metadata": {},
   "outputs": [
    {
     "data": {
      "text/html": [
       "<table style='border-style:solid;border-width:1px;'><tbody><tr><td style='font-family:monospace;' title='(0, 0)'><pre> 1.414214</pre></td><td style='font-family:monospace;' title='(0, 1)'><pre> 1.      </pre></td><td style='font-family:monospace;' title='(0, 2)'><pre> 1.414214</pre></td><td style='font-family:monospace;' title='(0, 3)'><pre> 2.236068</pre></td><td style='font-family:monospace;' title='(0, 4)'><pre> 2.828427</pre></td><td style='font-family:monospace;' title='(0, 5)'><pre> 3.605551</pre></td><td style='font-family:monospace;' title='(0, 6)'><pre> 4.24264 </pre></td><td style='font-family:monospace;' title='(0, 7)'><pre> 5.      </pre></td><td style='font-family:monospace;' title='(0, 8)'><pre> 5.830952</pre></td></tr><tr><td style='font-family:monospace;' title='(1, 0)'><pre> 1.      </pre></td><td style='font-family:monospace;' title='(1, 1)'><pre> 0.      </pre></td><td style='font-family:monospace;' title='(1, 2)'><pre> 1.      </pre></td><td style='font-family:monospace;' title='(1, 3)'><pre> 1.414214</pre></td><td style='font-family:monospace;' title='(1, 4)'><pre> 2.236068</pre></td><td style='font-family:monospace;' title='(1, 5)'><pre> 2.828427</pre></td><td style='font-family:monospace;' title='(1, 6)'><pre> 3.605551</pre></td><td style='font-family:monospace;' title='(1, 7)'><pre> 4.472136</pre></td><td style='font-family:monospace;' title='(1, 8)'><pre> 5.385165</pre></td></tr><tr><td style='font-family:monospace;' title='(2, 0)'><pre> 1.414214</pre></td><td style='font-family:monospace;' title='(2, 1)'><pre> 1.      </pre></td><td style='font-family:monospace;' title='(2, 2)'><pre> 0.      </pre></td><td style='font-family:monospace;' title='(2, 3)'><pre> 1.      </pre></td><td style='font-family:monospace;' title='(2, 4)'><pre> 1.414214</pre></td><td style='font-family:monospace;' title='(2, 5)'><pre> 2.236068</pre></td><td style='font-family:monospace;' title='(2, 6)'><pre> 3.162278</pre></td><td style='font-family:monospace;' title='(2, 7)'><pre> 4.123106</pre></td><td style='font-family:monospace;' title='(2, 8)'><pre> 5.09902 </pre></td></tr><tr><td style='font-family:monospace;' title='(3, 0)'><pre> 2.236068</pre></td><td style='font-family:monospace;' title='(3, 1)'><pre> 1.414214</pre></td><td style='font-family:monospace;' title='(3, 2)'><pre> 1.      </pre></td><td style='font-family:monospace;' title='(3, 3)'><pre> 0.      </pre></td><td style='font-family:monospace;' title='(3, 4)'><pre> 1.      </pre></td><td style='font-family:monospace;' title='(3, 5)'><pre> 2.      </pre></td><td style='font-family:monospace;' title='(3, 6)'><pre> 3.      </pre></td><td style='font-family:monospace;' title='(3, 7)'><pre> 4.      </pre></td><td style='font-family:monospace;' title='(3, 8)'><pre> 5.      </pre></td></tr><tr><td style='font-family:monospace;' title='(4, 0)'><pre> 2.828427</pre></td><td style='font-family:monospace;' title='(4, 1)'><pre> 2.      </pre></td><td style='font-family:monospace;' title='(4, 2)'><pre> 1.      </pre></td><td style='font-family:monospace;' title='(4, 3)'><pre> 0.      </pre></td><td style='font-family:monospace;' title='(4, 4)'><pre> 1.      </pre></td><td style='font-family:monospace;' title='(4, 5)'><pre> 2.      </pre></td><td style='font-family:monospace;' title='(4, 6)'><pre> 3.      </pre></td><td style='font-family:monospace;' title='(4, 7)'><pre> 4.      </pre></td><td style='font-family:monospace;' title='(4, 8)'><pre> 4.      </pre></td></tr><tr><td style='font-family:monospace;' title='(5, 0)'><pre> 3.162278</pre></td><td style='font-family:monospace;' title='(5, 1)'><pre> 2.236068</pre></td><td style='font-family:monospace;' title='(5, 2)'><pre> 1.414214</pre></td><td style='font-family:monospace;' title='(5, 3)'><pre> 1.414214</pre></td><td style='font-family:monospace;' title='(5, 4)'><pre> 1.414214</pre></td><td style='font-family:monospace;' title='(5, 5)'><pre> 2.236068</pre></td><td style='font-family:monospace;' title='(5, 6)'><pre> 3.162278</pre></td><td style='font-family:monospace;' title='(5, 7)'><pre> 3.162278</pre></td><td style='font-family:monospace;' title='(5, 8)'><pre> 3.      </pre></td></tr><tr><td style='font-family:monospace;' title='(6, 0)'><pre> 3.605551</pre></td><td style='font-family:monospace;' title='(6, 1)'><pre> 2.828427</pre></td><td style='font-family:monospace;' title='(6, 2)'><pre> 2.236068</pre></td><td style='font-family:monospace;' title='(6, 3)'><pre> 2.236068</pre></td><td style='font-family:monospace;' title='(6, 4)'><pre> 2.236068</pre></td><td style='font-family:monospace;' title='(6, 5)'><pre> 2.828427</pre></td><td style='font-family:monospace;' title='(6, 6)'><pre> 2.828427</pre></td><td style='font-family:monospace;' title='(6, 7)'><pre> 2.236068</pre></td><td style='font-family:monospace;' title='(6, 8)'><pre> 2.      </pre></td></tr><tr><td style='font-family:monospace;' title='(7, 0)'><pre> 4.24264 </pre></td><td style='font-family:monospace;' title='(7, 1)'><pre> 3.605551</pre></td><td style='font-family:monospace;' title='(7, 2)'><pre> 3.162278</pre></td><td style='font-family:monospace;' title='(7, 3)'><pre> 3.162278</pre></td><td style='font-family:monospace;' title='(7, 4)'><pre> 3.162278</pre></td><td style='font-family:monospace;' title='(7, 5)'><pre> 3.162278</pre></td><td style='font-family:monospace;' title='(7, 6)'><pre> 2.236068</pre></td><td style='font-family:monospace;' title='(7, 7)'><pre> 1.414214</pre></td><td style='font-family:monospace;' title='(7, 8)'><pre> 1.      </pre></td></tr><tr><td style='font-family:monospace;' title='(8, 0)'><pre> 5.      </pre></td><td style='font-family:monospace;' title='(8, 1)'><pre> 4.472136</pre></td><td style='font-family:monospace;' title='(8, 2)'><pre> 4.123106</pre></td><td style='font-family:monospace;' title='(8, 3)'><pre> 4.123106</pre></td><td style='font-family:monospace;' title='(8, 4)'><pre> 4.      </pre></td><td style='font-family:monospace;' title='(8, 5)'><pre> 3.      </pre></td><td style='font-family:monospace;' title='(8, 6)'><pre> 2.      </pre></td><td style='font-family:monospace;' title='(8, 7)'><pre> 1.      </pre></td><td style='font-family:monospace;' title='(8, 8)'><pre> 0.      </pre></td></tr></tbody></table>"
      ]
     },
     "execution_count": 15,
     "metadata": {},
     "output_type": "execute_result"
    }
   ],
   "source": [
    "voro_v = mat_h; // Storing the vertical Voronoi Matrix"
   ]
  },
  {
   "cell_type": "markdown",
   "metadata": {},
   "source": [
    "## Going from left to right\n",
    "\n",
    "Next step is going loop from left to right, considering a large initial distance, a cell counter and a distance that will be computed as follows: \n",
    "$$ distance = \\sqrt{counter^2 + value\\ cell^2}$$\n",
    "The stop condition will be that the displacement counter ($counter$) be greater than the last distance computed ($distance_{n-1}$)"
   ]
  },
  {
   "cell_type": "code",
   "execution_count": 16,
   "metadata": {},
   "outputs": [
    {
     "data": {
      "text/html": [
       "<table style='border-style:solid;border-width:1px;'><tbody><tr><td style='font-family:monospace;' title='(0, 0)'><pre> 1.414214</pre></td><td style='font-family:monospace;' title='(0, 1)'><pre> 1.      </pre></td><td style='font-family:monospace;' title='(0, 2)'><pre> 2.      </pre></td><td style='font-family:monospace;' title='(0, 3)'><pre> 3.      </pre></td><td style='font-family:monospace;' title='(0, 4)'><pre> 8.944272</pre></td><td style='font-family:monospace;' title='(0, 5)'><pre> 8.544003</pre></td><td style='font-family:monospace;' title='(0, 6)'><pre> 8.246211</pre></td><td style='font-family:monospace;' title='(0, 7)'><pre> 8.062258</pre></td><td style='font-family:monospace;' title='(0, 8)'><pre> 8.      </pre></td></tr><tr><td style='font-family:monospace;' title='(1, 0)'><pre> 1.      </pre></td><td style='font-family:monospace;' title='(1, 1)'><pre> 0.      </pre></td><td style='font-family:monospace;' title='(1, 2)'><pre> 1.      </pre></td><td style='font-family:monospace;' title='(1, 3)'><pre> 2.      </pre></td><td style='font-family:monospace;' title='(1, 4)'><pre> 8.062258</pre></td><td style='font-family:monospace;' title='(1, 5)'><pre> 7.615773</pre></td><td style='font-family:monospace;' title='(1, 6)'><pre> 7.28011 </pre></td><td style='font-family:monospace;' title='(1, 7)'><pre> 7.071068</pre></td><td style='font-family:monospace;' title='(1, 8)'><pre> 7.      </pre></td></tr><tr><td style='font-family:monospace;' title='(2, 0)'><pre> 1.414214</pre></td><td style='font-family:monospace;' title='(2, 1)'><pre> 1.      </pre></td><td style='font-family:monospace;' title='(2, 2)'><pre> 0.      </pre></td><td style='font-family:monospace;' title='(2, 3)'><pre> 1.      </pre></td><td style='font-family:monospace;' title='(2, 4)'><pre> 7.211102</pre></td><td style='font-family:monospace;' title='(2, 5)'><pre> 6.708204</pre></td><td style='font-family:monospace;' title='(2, 6)'><pre> 6.324555</pre></td><td style='font-family:monospace;' title='(2, 7)'><pre> 6.082763</pre></td><td style='font-family:monospace;' title='(2, 8)'><pre> 6.      </pre></td></tr><tr><td style='font-family:monospace;' title='(3, 0)'><pre> 2.236068</pre></td><td style='font-family:monospace;' title='(3, 1)'><pre> 1.414214</pre></td><td style='font-family:monospace;' title='(3, 2)'><pre> 1.      </pre></td><td style='font-family:monospace;' title='(3, 3)'><pre> 0.      </pre></td><td style='font-family:monospace;' title='(3, 4)'><pre> 6.403124</pre></td><td style='font-family:monospace;' title='(3, 5)'><pre> 5.830952</pre></td><td style='font-family:monospace;' title='(3, 6)'><pre> 5.385165</pre></td><td style='font-family:monospace;' title='(3, 7)'><pre> 5.09902 </pre></td><td style='font-family:monospace;' title='(3, 8)'><pre> 5.      </pre></td></tr><tr><td style='font-family:monospace;' title='(4, 0)'><pre> 2.828427</pre></td><td style='font-family:monospace;' title='(4, 1)'><pre> 2.      </pre></td><td style='font-family:monospace;' title='(4, 2)'><pre> 1.      </pre></td><td style='font-family:monospace;' title='(4, 3)'><pre> 0.      </pre></td><td style='font-family:monospace;' title='(4, 4)'><pre> 5.656854</pre></td><td style='font-family:monospace;' title='(4, 5)'><pre> 5.      </pre></td><td style='font-family:monospace;' title='(4, 6)'><pre> 4.472136</pre></td><td style='font-family:monospace;' title='(4, 7)'><pre> 4.123106</pre></td><td style='font-family:monospace;' title='(4, 8)'><pre> 4.      </pre></td></tr><tr><td style='font-family:monospace;' title='(5, 0)'><pre> 3.162278</pre></td><td style='font-family:monospace;' title='(5, 1)'><pre> 2.236068</pre></td><td style='font-family:monospace;' title='(5, 2)'><pre> 1.414214</pre></td><td style='font-family:monospace;' title='(5, 3)'><pre> 1.      </pre></td><td style='font-family:monospace;' title='(5, 4)'><pre> 5.      </pre></td><td style='font-family:monospace;' title='(5, 5)'><pre> 4.24264 </pre></td><td style='font-family:monospace;' title='(5, 6)'><pre> 3.605551</pre></td><td style='font-family:monospace;' title='(5, 7)'><pre> 3.162278</pre></td><td style='font-family:monospace;' title='(5, 8)'><pre> 3.      </pre></td></tr><tr><td style='font-family:monospace;' title='(6, 0)'><pre> 3.605551</pre></td><td style='font-family:monospace;' title='(6, 1)'><pre> 2.828427</pre></td><td style='font-family:monospace;' title='(6, 2)'><pre> 2.236068</pre></td><td style='font-family:monospace;' title='(6, 3)'><pre> 2.      </pre></td><td style='font-family:monospace;' title='(6, 4)'><pre> 4.472136</pre></td><td style='font-family:monospace;' title='(6, 5)'><pre> 3.605551</pre></td><td style='font-family:monospace;' title='(6, 6)'><pre> 2.828427</pre></td><td style='font-family:monospace;' title='(6, 7)'><pre> 2.236068</pre></td><td style='font-family:monospace;' title='(6, 8)'><pre> 2.      </pre></td></tr><tr><td style='font-family:monospace;' title='(7, 0)'><pre> 4.24264 </pre></td><td style='font-family:monospace;' title='(7, 1)'><pre> 3.605551</pre></td><td style='font-family:monospace;' title='(7, 2)'><pre> 3.162278</pre></td><td style='font-family:monospace;' title='(7, 3)'><pre> 3.      </pre></td><td style='font-family:monospace;' title='(7, 4)'><pre> 4.123106</pre></td><td style='font-family:monospace;' title='(7, 5)'><pre> 3.162278</pre></td><td style='font-family:monospace;' title='(7, 6)'><pre> 2.236068</pre></td><td style='font-family:monospace;' title='(7, 7)'><pre> 1.414214</pre></td><td style='font-family:monospace;' title='(7, 8)'><pre> 1.      </pre></td></tr><tr><td style='font-family:monospace;' title='(8, 0)'><pre> 5.      </pre></td><td style='font-family:monospace;' title='(8, 1)'><pre> 4.472136</pre></td><td style='font-family:monospace;' title='(8, 2)'><pre> 4.123106</pre></td><td style='font-family:monospace;' title='(8, 3)'><pre> 4.      </pre></td><td style='font-family:monospace;' title='(8, 4)'><pre> 4.      </pre></td><td style='font-family:monospace;' title='(8, 5)'><pre> 3.      </pre></td><td style='font-family:monospace;' title='(8, 6)'><pre> 2.      </pre></td><td style='font-family:monospace;' title='(8, 7)'><pre> 1.      </pre></td><td style='font-family:monospace;' title='(8, 8)'><pre> 0.      </pre></td></tr></tbody></table>"
      ]
     },
     "execution_count": 16,
     "metadata": {},
     "output_type": "execute_result"
    }
   ],
   "source": [
    "for (int m = 0; m < M; ++m)\n",
    "{\n",
    "    for (int i = 0; i < N; ++i)\n",
    "    {\n",
    "        dist_less = 100;\n",
    "        disp_count = 0; \n",
    "        dist_new = 0;\n",
    "        \n",
    "        if (mat_v(i,m) != -1)\n",
    "        {\n",
    "            dist_less = temporal_mat_v(i,m);\n",
    "        }\n",
    "        \n",
    "\n",
    "        for (int j = m+1; j < M; ++j)\n",
    "        {\n",
    "            if (mat_v(i,j) == -1)\n",
    "            {\n",
    "                ++disp_count;               \n",
    "            }\n",
    "            else if (mat_v(i,j) >= 0)\n",
    "            {\n",
    "                ++disp_count;\n",
    "                dist_new = sqrt((pow(disp_count,2)) + pow(mat_v(i,m + disp_count),2)); // Computing the distance            \n",
    "\n",
    "                if (dist_new < dist_less && mat_v(i,m) != 0) \n",
    "                {\n",
    "                    dist_less = dist_new; // Storing always the less distance between the initial distance and the computed one \n",
    "\n",
    "                    mat_v(i,m) = dist_less;\n",
    "\n",
    "                }\n",
    "\n",
    "                if (disp_count > dist_less)\n",
    "                {\n",
    "                    break; // Finishes the loop\n",
    "                }\n",
    "            }     \n",
    "        }\n",
    "    }\n",
    "}\n",
    "mat_v"
   ]
  },
  {
   "cell_type": "markdown",
   "metadata": {},
   "source": [
    "## Going from right to left\n",
    "\n",
    "Considering the previous operation now we loop from right to left in the matrix, considering the last results and taking the less between the computed in the next matrix and the last"
   ]
  },
  {
   "cell_type": "code",
   "execution_count": 17,
   "metadata": {},
   "outputs": [],
   "source": [
    "for (int m = M-1; m > -1; --m)\n",
    "{\n",
    "    for (int i = 0; i < N; ++i)\n",
    "    {\n",
    "        dist_less = 100;\n",
    "        disp_count = 0; \n",
    "        dist_new = 0;\n",
    "\n",
    "        for (int j = m-1; j > -1; --j)\n",
    "        {\n",
    "            if (mat_v(i,j) == -1)\n",
    "            {\n",
    "                ++disp_count;               \n",
    "            }\n",
    "            else if (mat_v(i,j) > 0)\n",
    "            {\n",
    "                ++disp_count;\n",
    "\n",
    "                dist_new = sqrt((pow(disp_count,2)) + pow(mat_v(i,j),2)); // Computing the distance            \n",
    "\n",
    "                if (dist_new < dist_less && mat_v(i,m) != 0) \n",
    "                {\n",
    "                    dist_less = dist_new; // Storing always the less distance between the initial distance and the computed one \n",
    "\n",
    "                    if (mat_v(i,m) > dist_less)\n",
    "                    {\n",
    "                        mat_v(i,m) = dist_less;\n",
    "                    }\n",
    "\n",
    "                }\n",
    "                if (disp_count > dist_less)\n",
    "                {\n",
    "                    break; // Finishes the loop\n",
    "                }\n",
    "            }     \n",
    "        }\n",
    "    }\n",
    "}"
   ]
  },
  {
   "cell_type": "code",
   "execution_count": 18,
   "metadata": {},
   "outputs": [
    {
     "data": {
      "text/html": [
       "<table style='border-style:solid;border-width:1px;'><tbody><tr><td style='font-family:monospace;' title='(0, 0)'><pre> 1.414214</pre></td><td style='font-family:monospace;' title='(0, 1)'><pre> 1.      </pre></td><td style='font-family:monospace;' title='(0, 2)'><pre> 1.414214</pre></td><td style='font-family:monospace;' title='(0, 3)'><pre> 2.236068</pre></td><td style='font-family:monospace;' title='(0, 4)'><pre> 2.828427</pre></td><td style='font-family:monospace;' title='(0, 5)'><pre> 3.605551</pre></td><td style='font-family:monospace;' title='(0, 6)'><pre> 4.24264 </pre></td><td style='font-family:monospace;' title='(0, 7)'><pre> 5.      </pre></td><td style='font-family:monospace;' title='(0, 8)'><pre> 5.830952</pre></td></tr><tr><td style='font-family:monospace;' title='(1, 0)'><pre> 1.      </pre></td><td style='font-family:monospace;' title='(1, 1)'><pre> 0.      </pre></td><td style='font-family:monospace;' title='(1, 2)'><pre> 1.      </pre></td><td style='font-family:monospace;' title='(1, 3)'><pre> 1.414214</pre></td><td style='font-family:monospace;' title='(1, 4)'><pre> 2.236068</pre></td><td style='font-family:monospace;' title='(1, 5)'><pre> 2.828427</pre></td><td style='font-family:monospace;' title='(1, 6)'><pre> 3.605551</pre></td><td style='font-family:monospace;' title='(1, 7)'><pre> 4.472136</pre></td><td style='font-family:monospace;' title='(1, 8)'><pre> 5.385165</pre></td></tr><tr><td style='font-family:monospace;' title='(2, 0)'><pre> 1.414214</pre></td><td style='font-family:monospace;' title='(2, 1)'><pre> 1.      </pre></td><td style='font-family:monospace;' title='(2, 2)'><pre> 0.      </pre></td><td style='font-family:monospace;' title='(2, 3)'><pre> 1.      </pre></td><td style='font-family:monospace;' title='(2, 4)'><pre> 1.414214</pre></td><td style='font-family:monospace;' title='(2, 5)'><pre> 2.236068</pre></td><td style='font-family:monospace;' title='(2, 6)'><pre> 3.162278</pre></td><td style='font-family:monospace;' title='(2, 7)'><pre> 4.123106</pre></td><td style='font-family:monospace;' title='(2, 8)'><pre> 5.09902 </pre></td></tr><tr><td style='font-family:monospace;' title='(3, 0)'><pre> 2.236068</pre></td><td style='font-family:monospace;' title='(3, 1)'><pre> 1.414214</pre></td><td style='font-family:monospace;' title='(3, 2)'><pre> 1.      </pre></td><td style='font-family:monospace;' title='(3, 3)'><pre> 0.      </pre></td><td style='font-family:monospace;' title='(3, 4)'><pre> 1.414214</pre></td><td style='font-family:monospace;' title='(3, 5)'><pre> 2.236068</pre></td><td style='font-family:monospace;' title='(3, 6)'><pre> 3.162278</pre></td><td style='font-family:monospace;' title='(3, 7)'><pre> 4.123106</pre></td><td style='font-family:monospace;' title='(3, 8)'><pre> 5.      </pre></td></tr><tr><td style='font-family:monospace;' title='(4, 0)'><pre> 2.828427</pre></td><td style='font-family:monospace;' title='(4, 1)'><pre> 2.      </pre></td><td style='font-family:monospace;' title='(4, 2)'><pre> 1.      </pre></td><td style='font-family:monospace;' title='(4, 3)'><pre> 0.      </pre></td><td style='font-family:monospace;' title='(4, 4)'><pre> 1.414214</pre></td><td style='font-family:monospace;' title='(4, 5)'><pre> 2.236068</pre></td><td style='font-family:monospace;' title='(4, 6)'><pre> 3.162278</pre></td><td style='font-family:monospace;' title='(4, 7)'><pre> 4.123106</pre></td><td style='font-family:monospace;' title='(4, 8)'><pre> 4.      </pre></td></tr><tr><td style='font-family:monospace;' title='(5, 0)'><pre> 3.162278</pre></td><td style='font-family:monospace;' title='(5, 1)'><pre> 2.236068</pre></td><td style='font-family:monospace;' title='(5, 2)'><pre> 1.414214</pre></td><td style='font-family:monospace;' title='(5, 3)'><pre> 1.      </pre></td><td style='font-family:monospace;' title='(5, 4)'><pre> 1.414214</pre></td><td style='font-family:monospace;' title='(5, 5)'><pre> 2.236068</pre></td><td style='font-family:monospace;' title='(5, 6)'><pre> 3.162278</pre></td><td style='font-family:monospace;' title='(5, 7)'><pre> 3.162278</pre></td><td style='font-family:monospace;' title='(5, 8)'><pre> 3.      </pre></td></tr><tr><td style='font-family:monospace;' title='(6, 0)'><pre> 3.605551</pre></td><td style='font-family:monospace;' title='(6, 1)'><pre> 2.828427</pre></td><td style='font-family:monospace;' title='(6, 2)'><pre> 2.236068</pre></td><td style='font-family:monospace;' title='(6, 3)'><pre> 2.      </pre></td><td style='font-family:monospace;' title='(6, 4)'><pre> 2.236068</pre></td><td style='font-family:monospace;' title='(6, 5)'><pre> 2.828427</pre></td><td style='font-family:monospace;' title='(6, 6)'><pre> 2.828427</pre></td><td style='font-family:monospace;' title='(6, 7)'><pre> 2.236068</pre></td><td style='font-family:monospace;' title='(6, 8)'><pre> 2.      </pre></td></tr><tr><td style='font-family:monospace;' title='(7, 0)'><pre> 4.24264 </pre></td><td style='font-family:monospace;' title='(7, 1)'><pre> 3.605551</pre></td><td style='font-family:monospace;' title='(7, 2)'><pre> 3.162278</pre></td><td style='font-family:monospace;' title='(7, 3)'><pre> 3.      </pre></td><td style='font-family:monospace;' title='(7, 4)'><pre> 3.162278</pre></td><td style='font-family:monospace;' title='(7, 5)'><pre> 3.162278</pre></td><td style='font-family:monospace;' title='(7, 6)'><pre> 2.236068</pre></td><td style='font-family:monospace;' title='(7, 7)'><pre> 1.414214</pre></td><td style='font-family:monospace;' title='(7, 8)'><pre> 1.      </pre></td></tr><tr><td style='font-family:monospace;' title='(8, 0)'><pre> 5.      </pre></td><td style='font-family:monospace;' title='(8, 1)'><pre> 4.472136</pre></td><td style='font-family:monospace;' title='(8, 2)'><pre> 4.123106</pre></td><td style='font-family:monospace;' title='(8, 3)'><pre> 4.      </pre></td><td style='font-family:monospace;' title='(8, 4)'><pre> 4.      </pre></td><td style='font-family:monospace;' title='(8, 5)'><pre> 3.      </pre></td><td style='font-family:monospace;' title='(8, 6)'><pre> 2.      </pre></td><td style='font-family:monospace;' title='(8, 7)'><pre> 1.      </pre></td><td style='font-family:monospace;' title='(8, 8)'><pre> 0.      </pre></td></tr></tbody></table>"
      ]
     },
     "execution_count": 18,
     "metadata": {},
     "output_type": "execute_result"
    }
   ],
   "source": [
    "voro_h = mat_v; //Storing the horizontal Voronoi Matrix"
   ]
  },
  {
   "cell_type": "markdown",
   "metadata": {},
   "source": [
    "## Taking the less between the two matrices\n",
    "\n",
    "Now, that we have the less distances to the nearest 0, we take the less of voro_v and voro_h"
   ]
  },
  {
   "cell_type": "code",
   "execution_count": 19,
   "metadata": {},
   "outputs": [],
   "source": [
    "minor_m = voro_h; // This works to create the minor_m matrix of the same shape\n",
    "\n",
    "\n",
    "/* Setting to infinity the -1 values */\n",
    "for (int i = 0; i < N; ++i)\n",
    "{        \n",
    "    for (int j = 0; j < M; ++j)\n",
    "    {\n",
    "        if (mat_h(i,j) < 0)\n",
    "        {\n",
    "            mat_h(i,j) = INFINITY; \n",
    "        }\n",
    "        else if (mat_v(i,j) < 0)\n",
    "        {\n",
    "            mat_v(i,j) = INFINITY;\n",
    "        }\n",
    "        else if (voro_v(i,j) < 0)\n",
    "        {\n",
    "            voro_v(i,j) = INFINITY;\n",
    "        }\n",
    "        else if (voro_h(i,j) < 0)\n",
    "        {\n",
    "            voro_h(i,j) = INFINITY;\n",
    "        }\n",
    "    }\n",
    "}\n",
    "        \n",
    "/* Considering the less between voro_h and voro_v */ \n",
    "for (int i = 0; i < N; ++i)\n",
    "{        \n",
    "    for (int j = 0; j < M; ++j)\n",
    "    {\n",
    "            minor_m(i,j) = std::min(voro_h(i,j), voro_v(i,j)) ;            \n",
    "    }\n",
    "}\n",
    "\n"
   ]
  },
  {
   "cell_type": "code",
   "execution_count": 20,
   "metadata": {},
   "outputs": [
    {
     "data": {
      "text/html": [
       "<table style='border-style:solid;border-width:1px;'><tbody><tr><td style='font-family:monospace;' title='(0, 0)'><pre> 1.414214</pre></td><td style='font-family:monospace;' title='(0, 1)'><pre> 1.      </pre></td><td style='font-family:monospace;' title='(0, 2)'><pre> 1.414214</pre></td><td style='font-family:monospace;' title='(0, 3)'><pre> 2.236068</pre></td><td style='font-family:monospace;' title='(0, 4)'><pre> 2.828427</pre></td><td style='font-family:monospace;' title='(0, 5)'><pre> 3.605551</pre></td><td style='font-family:monospace;' title='(0, 6)'><pre> 4.24264 </pre></td><td style='font-family:monospace;' title='(0, 7)'><pre> 5.      </pre></td><td style='font-family:monospace;' title='(0, 8)'><pre> 5.830952</pre></td></tr><tr><td style='font-family:monospace;' title='(1, 0)'><pre> 1.      </pre></td><td style='font-family:monospace;' title='(1, 1)'><pre> 0.      </pre></td><td style='font-family:monospace;' title='(1, 2)'><pre> 1.      </pre></td><td style='font-family:monospace;' title='(1, 3)'><pre> 1.414214</pre></td><td style='font-family:monospace;' title='(1, 4)'><pre> 2.236068</pre></td><td style='font-family:monospace;' title='(1, 5)'><pre> 2.828427</pre></td><td style='font-family:monospace;' title='(1, 6)'><pre> 3.605551</pre></td><td style='font-family:monospace;' title='(1, 7)'><pre> 4.472136</pre></td><td style='font-family:monospace;' title='(1, 8)'><pre> 5.385165</pre></td></tr><tr><td style='font-family:monospace;' title='(2, 0)'><pre> 1.414214</pre></td><td style='font-family:monospace;' title='(2, 1)'><pre> 1.      </pre></td><td style='font-family:monospace;' title='(2, 2)'><pre> 0.      </pre></td><td style='font-family:monospace;' title='(2, 3)'><pre> 1.      </pre></td><td style='font-family:monospace;' title='(2, 4)'><pre> 1.414214</pre></td><td style='font-family:monospace;' title='(2, 5)'><pre> 2.236068</pre></td><td style='font-family:monospace;' title='(2, 6)'><pre> 3.162278</pre></td><td style='font-family:monospace;' title='(2, 7)'><pre> 4.123106</pre></td><td style='font-family:monospace;' title='(2, 8)'><pre> 5.09902 </pre></td></tr><tr><td style='font-family:monospace;' title='(3, 0)'><pre> 2.236068</pre></td><td style='font-family:monospace;' title='(3, 1)'><pre> 1.414214</pre></td><td style='font-family:monospace;' title='(3, 2)'><pre> 1.      </pre></td><td style='font-family:monospace;' title='(3, 3)'><pre> 0.      </pre></td><td style='font-family:monospace;' title='(3, 4)'><pre> 1.      </pre></td><td style='font-family:monospace;' title='(3, 5)'><pre> 2.      </pre></td><td style='font-family:monospace;' title='(3, 6)'><pre> 3.      </pre></td><td style='font-family:monospace;' title='(3, 7)'><pre> 4.      </pre></td><td style='font-family:monospace;' title='(3, 8)'><pre> 5.      </pre></td></tr><tr><td style='font-family:monospace;' title='(4, 0)'><pre> 2.828427</pre></td><td style='font-family:monospace;' title='(4, 1)'><pre> 2.      </pre></td><td style='font-family:monospace;' title='(4, 2)'><pre> 1.      </pre></td><td style='font-family:monospace;' title='(4, 3)'><pre> 0.      </pre></td><td style='font-family:monospace;' title='(4, 4)'><pre> 1.      </pre></td><td style='font-family:monospace;' title='(4, 5)'><pre> 2.      </pre></td><td style='font-family:monospace;' title='(4, 6)'><pre> 3.      </pre></td><td style='font-family:monospace;' title='(4, 7)'><pre> 4.      </pre></td><td style='font-family:monospace;' title='(4, 8)'><pre> 4.      </pre></td></tr><tr><td style='font-family:monospace;' title='(5, 0)'><pre> 3.162278</pre></td><td style='font-family:monospace;' title='(5, 1)'><pre> 2.236068</pre></td><td style='font-family:monospace;' title='(5, 2)'><pre> 1.414214</pre></td><td style='font-family:monospace;' title='(5, 3)'><pre> 1.      </pre></td><td style='font-family:monospace;' title='(5, 4)'><pre> 1.414214</pre></td><td style='font-family:monospace;' title='(5, 5)'><pre> 2.236068</pre></td><td style='font-family:monospace;' title='(5, 6)'><pre> 3.162278</pre></td><td style='font-family:monospace;' title='(5, 7)'><pre> 3.162278</pre></td><td style='font-family:monospace;' title='(5, 8)'><pre> 3.      </pre></td></tr><tr><td style='font-family:monospace;' title='(6, 0)'><pre> 3.605551</pre></td><td style='font-family:monospace;' title='(6, 1)'><pre> 2.828427</pre></td><td style='font-family:monospace;' title='(6, 2)'><pre> 2.236068</pre></td><td style='font-family:monospace;' title='(6, 3)'><pre> 2.      </pre></td><td style='font-family:monospace;' title='(6, 4)'><pre> 2.236068</pre></td><td style='font-family:monospace;' title='(6, 5)'><pre> 2.828427</pre></td><td style='font-family:monospace;' title='(6, 6)'><pre> 2.828427</pre></td><td style='font-family:monospace;' title='(6, 7)'><pre> 2.236068</pre></td><td style='font-family:monospace;' title='(6, 8)'><pre> 2.      </pre></td></tr><tr><td style='font-family:monospace;' title='(7, 0)'><pre> 4.24264 </pre></td><td style='font-family:monospace;' title='(7, 1)'><pre> 3.605551</pre></td><td style='font-family:monospace;' title='(7, 2)'><pre> 3.162278</pre></td><td style='font-family:monospace;' title='(7, 3)'><pre> 3.      </pre></td><td style='font-family:monospace;' title='(7, 4)'><pre> 3.162278</pre></td><td style='font-family:monospace;' title='(7, 5)'><pre> 3.162278</pre></td><td style='font-family:monospace;' title='(7, 6)'><pre> 2.236068</pre></td><td style='font-family:monospace;' title='(7, 7)'><pre> 1.414214</pre></td><td style='font-family:monospace;' title='(7, 8)'><pre> 1.      </pre></td></tr><tr><td style='font-family:monospace;' title='(8, 0)'><pre> 5.      </pre></td><td style='font-family:monospace;' title='(8, 1)'><pre> 4.472136</pre></td><td style='font-family:monospace;' title='(8, 2)'><pre> 4.123106</pre></td><td style='font-family:monospace;' title='(8, 3)'><pre> 4.      </pre></td><td style='font-family:monospace;' title='(8, 4)'><pre> 4.      </pre></td><td style='font-family:monospace;' title='(8, 5)'><pre> 3.      </pre></td><td style='font-family:monospace;' title='(8, 6)'><pre> 2.      </pre></td><td style='font-family:monospace;' title='(8, 7)'><pre> 1.      </pre></td><td style='font-family:monospace;' title='(8, 8)'><pre> 0.      </pre></td></tr></tbody></table>"
      ]
     },
     "execution_count": 20,
     "metadata": {},
     "output_type": "execute_result"
    }
   ],
   "source": [
    "minor_m"
   ]
  },
  {
   "cell_type": "code",
   "execution_count": 21,
   "metadata": {},
   "outputs": [
    {
     "data": {
      "text/html": [
       "<table style='border-style:solid;border-width:1px;'><tbody><tr><td style='font-family:monospace;' title='(0, 0)'><pre> 1.4</pre></td><td style='font-family:monospace;' title='(0, 1)'><pre> 1. </pre></td><td style='font-family:monospace;' title='(0, 2)'><pre> 1.4</pre></td><td style='font-family:monospace;' title='(0, 3)'><pre> 2.2</pre></td><td style='font-family:monospace;' title='(0, 4)'><pre> 2.8</pre></td><td style='font-family:monospace;' title='(0, 5)'><pre> 3.6</pre></td><td style='font-family:monospace;' title='(0, 6)'><pre> 4.2</pre></td><td style='font-family:monospace;' title='(0, 7)'><pre> 5. </pre></td><td style='font-family:monospace;' title='(0, 8)'><pre> 5.8</pre></td></tr><tr><td style='font-family:monospace;' title='(1, 0)'><pre> 1. </pre></td><td style='font-family:monospace;' title='(1, 1)'><pre> 0. </pre></td><td style='font-family:monospace;' title='(1, 2)'><pre> 1. </pre></td><td style='font-family:monospace;' title='(1, 3)'><pre> 1.4</pre></td><td style='font-family:monospace;' title='(1, 4)'><pre> 2.2</pre></td><td style='font-family:monospace;' title='(1, 5)'><pre> 2.8</pre></td><td style='font-family:monospace;' title='(1, 6)'><pre> 3.6</pre></td><td style='font-family:monospace;' title='(1, 7)'><pre> 4.5</pre></td><td style='font-family:monospace;' title='(1, 8)'><pre> 5.4</pre></td></tr><tr><td style='font-family:monospace;' title='(2, 0)'><pre> 1.4</pre></td><td style='font-family:monospace;' title='(2, 1)'><pre> 1. </pre></td><td style='font-family:monospace;' title='(2, 2)'><pre> 0. </pre></td><td style='font-family:monospace;' title='(2, 3)'><pre> 1. </pre></td><td style='font-family:monospace;' title='(2, 4)'><pre> 1.4</pre></td><td style='font-family:monospace;' title='(2, 5)'><pre> 2.2</pre></td><td style='font-family:monospace;' title='(2, 6)'><pre> 3.2</pre></td><td style='font-family:monospace;' title='(2, 7)'><pre> 4.1</pre></td><td style='font-family:monospace;' title='(2, 8)'><pre> 5.1</pre></td></tr><tr><td style='font-family:monospace;' title='(3, 0)'><pre> 2.2</pre></td><td style='font-family:monospace;' title='(3, 1)'><pre> 1.4</pre></td><td style='font-family:monospace;' title='(3, 2)'><pre> 1. </pre></td><td style='font-family:monospace;' title='(3, 3)'><pre> 0. </pre></td><td style='font-family:monospace;' title='(3, 4)'><pre> 1. </pre></td><td style='font-family:monospace;' title='(3, 5)'><pre> 2. </pre></td><td style='font-family:monospace;' title='(3, 6)'><pre> 3. </pre></td><td style='font-family:monospace;' title='(3, 7)'><pre> 4. </pre></td><td style='font-family:monospace;' title='(3, 8)'><pre> 5. </pre></td></tr><tr><td style='font-family:monospace;' title='(4, 0)'><pre> 2.8</pre></td><td style='font-family:monospace;' title='(4, 1)'><pre> 2. </pre></td><td style='font-family:monospace;' title='(4, 2)'><pre> 1. </pre></td><td style='font-family:monospace;' title='(4, 3)'><pre> 0. </pre></td><td style='font-family:monospace;' title='(4, 4)'><pre> 1. </pre></td><td style='font-family:monospace;' title='(4, 5)'><pre> 2. </pre></td><td style='font-family:monospace;' title='(4, 6)'><pre> 3. </pre></td><td style='font-family:monospace;' title='(4, 7)'><pre> 4. </pre></td><td style='font-family:monospace;' title='(4, 8)'><pre> 4. </pre></td></tr><tr><td style='font-family:monospace;' title='(5, 0)'><pre> 3.2</pre></td><td style='font-family:monospace;' title='(5, 1)'><pre> 2.2</pre></td><td style='font-family:monospace;' title='(5, 2)'><pre> 1.4</pre></td><td style='font-family:monospace;' title='(5, 3)'><pre> 1. </pre></td><td style='font-family:monospace;' title='(5, 4)'><pre> 1.4</pre></td><td style='font-family:monospace;' title='(5, 5)'><pre> 2.2</pre></td><td style='font-family:monospace;' title='(5, 6)'><pre> 3.2</pre></td><td style='font-family:monospace;' title='(5, 7)'><pre> 3.2</pre></td><td style='font-family:monospace;' title='(5, 8)'><pre> 3. </pre></td></tr><tr><td style='font-family:monospace;' title='(6, 0)'><pre> 3.6</pre></td><td style='font-family:monospace;' title='(6, 1)'><pre> 2.8</pre></td><td style='font-family:monospace;' title='(6, 2)'><pre> 2.2</pre></td><td style='font-family:monospace;' title='(6, 3)'><pre> 2. </pre></td><td style='font-family:monospace;' title='(6, 4)'><pre> 2.2</pre></td><td style='font-family:monospace;' title='(6, 5)'><pre> 2.8</pre></td><td style='font-family:monospace;' title='(6, 6)'><pre> 2.8</pre></td><td style='font-family:monospace;' title='(6, 7)'><pre> 2.2</pre></td><td style='font-family:monospace;' title='(6, 8)'><pre> 2. </pre></td></tr><tr><td style='font-family:monospace;' title='(7, 0)'><pre> 4.2</pre></td><td style='font-family:monospace;' title='(7, 1)'><pre> 3.6</pre></td><td style='font-family:monospace;' title='(7, 2)'><pre> 3.2</pre></td><td style='font-family:monospace;' title='(7, 3)'><pre> 3. </pre></td><td style='font-family:monospace;' title='(7, 4)'><pre> 3.2</pre></td><td style='font-family:monospace;' title='(7, 5)'><pre> 3.2</pre></td><td style='font-family:monospace;' title='(7, 6)'><pre> 2.2</pre></td><td style='font-family:monospace;' title='(7, 7)'><pre> 1.4</pre></td><td style='font-family:monospace;' title='(7, 8)'><pre> 1. </pre></td></tr><tr><td style='font-family:monospace;' title='(8, 0)'><pre> 5. </pre></td><td style='font-family:monospace;' title='(8, 1)'><pre> 4.5</pre></td><td style='font-family:monospace;' title='(8, 2)'><pre> 4.1</pre></td><td style='font-family:monospace;' title='(8, 3)'><pre> 4. </pre></td><td style='font-family:monospace;' title='(8, 4)'><pre> 4. </pre></td><td style='font-family:monospace;' title='(8, 5)'><pre> 3. </pre></td><td style='font-family:monospace;' title='(8, 6)'><pre> 2. </pre></td><td style='font-family:monospace;' title='(8, 7)'><pre> 1. </pre></td><td style='font-family:monospace;' title='(8, 8)'><pre> 0. </pre></td></tr></tbody></table>"
      ]
     },
     "execution_count": 21,
     "metadata": {},
     "output_type": "execute_result"
    }
   ],
   "source": [
    "/* Rounding the resultant matrix */\n",
    "\n",
    "round(minor_m * 10) / 10"
   ]
  }
 ],
 "metadata": {
  "kernelspec": {
   "display_name": "C++14",
   "language": "C++14",
   "name": "xcpp14"
  },
  "language_info": {
   "codemirror_mode": "text/x-c++src",
   "file_extension": ".cpp",
   "mimetype": "text/x-c++src",
   "name": "c++",
   "version": "14"
  }
 },
 "nbformat": 4,
 "nbformat_minor": 4
}
